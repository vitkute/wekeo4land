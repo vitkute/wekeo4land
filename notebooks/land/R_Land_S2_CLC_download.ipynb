{
 "cells": [
  {
   "cell_type": "markdown",
   "metadata": {},
   "source": [
    "<img src='../../media/common/LogoWekeo_Copernicus_RGB_0.png' align='left' height='96px'></img>"
   ]
  },
  {
   "cell_type": "markdown",
   "metadata": {},
   "source": [
    "<hr>"
   ]
  },
  {
   "cell_type": "markdown",
   "metadata": {},
   "source": [
    "# Tutorial on Basic Land Applications (Data Download)"
   ]
  },
  {
   "cell_type": "markdown",
   "metadata": {},
   "source": [
    "In this tutorial, we will use the WEkEO Jupyterhub to access and analyze data from the Copernicus Sentinel-2 and the <a href='https://land.copernicus.eu/' target='_blank'>Copernicus Land Monitoring Service (CLMS)</a>.  \n",
    "We have chosen a region in northern Corsica because it features representative landscape characteristics and processes that highlight the strengths and capabilities of Copernicus space components and services.\n",
    "\n",
    "The tutorial includes the following steps:\n",
    "\n",
    "1. [Search and download data](#search_download): We will select and download a Sentinel-2 scene and the CLMS CORINE Land Cover (CLC) data from their original archive locations via WEkEO using the Harmonised Data Access (HAD) API.\n",
    "\n",
    "1.\tRead and View Sentinel-2 Data: Once downloaded, we will read and view the Sentinel-2 data in geographic coordinates as a true-color image.\n",
    "\n",
    "1.\tProcess and View Sentinel-2 Data as a Vegetation Index: We will learn how to assess vegetation density and health using optical Earth Observation data, which supports crop and landscape management practices.\n",
    "\n",
    "1.\tRead and View the CLC Data: Display the thematic CLC data with the correct legend.\n",
    "\n",
    "1.\tAnalyze CLC2018 Burnt Area in the Sentinel-2 NDVI Data: We will combine the two products to provide a more comprehensive analysis, despite their differences.\n",
    "\n",
    "<img src='../../media/land/Intro_banner.jpg' align='center' height='400px'></img>"
   ]
  },
  {
   "cell_type": "markdown",
   "metadata": {},
   "source": [
    "## Environment Setup\n",
    "Before we begin, we need to prepare our environment by installing and importing the necessary R packages."
   ]
  },
  {
   "cell_type": "markdown",
   "metadata": {},
   "source": [
    "### Install the WEkEO HDA Client"
   ]
  },
  {
   "cell_type": "markdown",
   "metadata": {},
   "source": [
    "The WEkEO HDA client is a R-based package.\n",
    "\n",
    "To install the WEkEO HDA client using the package management system pip, run the following command on Unix/Linux:"
   ]
  },
  {
   "cell_type": "code",
   "execution_count": null,
   "metadata": {
    "vscode": {
     "languageId": "r"
    }
   },
   "outputs": [],
   "source": [
    "install.packages('hdar')"
   ]
  },
  {
   "cell_type": "markdown",
   "metadata": {},
   "source": [
    "### Load Required Libraries"
   ]
  },
  {
   "cell_type": "markdown",
   "metadata": {},
   "source": [
    "Please verify that the following requirements are installed before proceeding to the next step:\n",
    "   - `requests`\n",
    "   - `tqdm`"
   ]
  },
  {
   "cell_type": "code",
   "execution_count": null,
   "metadata": {
    "vscode": {
     "languageId": "r"
    }
   },
   "outputs": [],
   "source": [
    "library(jsonlite)\n",
    "library(zip)"
   ]
  },
  {
   "cell_type": "markdown",
   "metadata": {},
   "source": [
    "### Load WEkEO HDA client"
   ]
  },
  {
   "cell_type": "markdown",
   "metadata": {},
   "source": [
    "The hda client provides a fully compliant R client that can be used to search and download products using the Harmonized Data Access WEkEO API.\n",
    "HDA is RESTful interface allowing users to search and download WEkEO datasets.\n",
    "Documentation about its usage can be found at the <a href='https://www.wekeo.eu/' target='_blank'>WEkEO website</a>."
   ]
  },
  {
   "cell_type": "code",
   "execution_count": 3,
   "metadata": {
    "vscode": {
     "languageId": "r"
    }
   },
   "outputs": [],
   "source": [
    "library(hdar)"
   ]
  },
  {
   "cell_type": "markdown",
   "metadata": {},
   "source": [
    "<hr>"
   ]
  },
  {
   "cell_type": "markdown",
   "metadata": {},
   "source": [
    "## HDA Client Setup"
   ]
  },
  {
   "cell_type": "markdown",
   "metadata": {},
   "source": [
    "### WEkEO Account Registration"
   ]
  },
  {
   "cell_type": "markdown",
   "metadata": {},
   "source": [
    "If you don't have a WEkEO account, please self-register at the <a href='https://my.wekeo.eu/web/guest/user-registration' target='_blank'>WEkEO registration page</a>."
   ]
  },
  {
   "cell_type": "markdown",
   "metadata": {},
   "source": [
    "### API Authentication"
   ]
  },
  {
   "cell_type": "markdown",
   "metadata": {},
   "source": [
    "To interact with WEkEO's Harmonised Data Access API, ensure the file `$HOME/.hdarc` exists with the URL to the API endpoint, and your username and password.  \n",
    "For example, to check if the `.hdarc` file exists in the $HOME directory, open a terminal and run the following command:"
   ]
  },
  {
   "cell_type": "code",
   "execution_count": null,
   "metadata": {
    "vscode": {
     "languageId": "r"
    }
   },
   "outputs": [],
   "source": [
    "ls $HOME/.hdarc"
   ]
  },
  {
   "cell_type": "markdown",
   "metadata": {},
   "source": [
    "Then, copy the code below into the file `$HOME/.hdarc` (in your Unix/Linux environment) and replace the placeholders with your WEkEO account credentials:"
   ]
  },
  {
   "cell_type": "markdown",
   "metadata": {},
   "source": [
    "```yaml\n",
    "user_name: #############\n",
    "password: #############"
   ]
  },
  {
   "cell_type": "markdown",
   "metadata": {},
   "source": [
    "## Process data with HDA Client"
   ]
  },
  {
   "cell_type": "markdown",
   "metadata": {},
   "source": [
    "### Search for the Dataset ID from the WEkEO Landing Platform"
   ]
  },
  {
   "cell_type": "markdown",
   "metadata": {},
   "source": [
    "<a href='https://wekeo.eu/' target='_blank'>WEkEO</a> offers access to a vast amount of data. Under <a href='https://wekeo.eu/data' target='_blank'>WEkEO DATA</a>, clicking the \"+\" to add a layer opens a catalog search.  \n",
    "Here, you can use free text or the filter options on the left to refine your search by satellite platform, sensor, Copernicus service, area (region of interest), general time period (past or future), and various other flags.\n",
    "\n",
    "<img src='../../media/land/WEkEO_data_01.jpg' align='middle' height='400px'></img>\n",
    "\n",
    "You can click on the datasets you are interested in to view detailed information, including the dataset's temporal and spatial extent, collection ID, and metadata.\n",
    "\n",
    "When searching for Sentinel-2 products, click under \"Platform\" in the Filters on the left-hand side of the catalog panel.  \n",
    "Two datasets are available, but we will use “SENTINEL-2 Level-1C”. Once you have found it, select 'Details' to read the dataset description. \n",
    "\n",
    "The dataset description provides the following information:\n",
    "* Abstract: A general description of the dataset.\n",
    "* Classification: Including the Dataset ID.\n",
    "* Resources: Links to the Product Data Format Specification guide, and JSON metadata.\n",
    "* Contacts: Information about the data source from its provider.\n",
    "* Raw Metadata: Details of the dataset in XML format.\n",
    "\n",
    "<img src='../../media/land/WEkEO_data_02.jpg' align='centre' height='400px'></img>\n",
    "\n",
    "You will need this information to request data from the Harmonised Data Access API.\n",
    "\n",
    "This process is explained in a previous training session, which can be found on the <a href='https://www.youtube.com/channel/UCvS3VvKmMKs1M2ZkmQPyRlw' target='_blank'>WEkEO YouTube Channel</a>. The YouTube channel also contains many other useful training and support materials,  \n",
    "such as how to <a href='https://www.youtube.com/watch?v=pmCkvXcnZxY&list=PLAT-b7DuvMgogqJa5_ii5GteOYmXCce24&index=2' target='_blank'>clone the GitHub repository to refresh the training materials</a>.\n",
    "\n",
    "For this session, the details of the required datasets have already been prepared as JSON files, which will be used below."
   ]
  },
  {
   "cell_type": "code",
   "execution_count": 6,
   "metadata": {
    "vscode": {
     "languageId": "r"
    }
   },
   "outputs": [],
   "source": [
    "dataset_id_S2 <- \"EO:EO:ESA:DAT:SENTINEL-2:MSI\"\n",
    "dataset_id_corine <- \"EO:CLMS:DAT:CORINE\"\n",
    "\n",
    "filename_json_S2 <- file.path(getwd(), \"../../data/raw/land/S2_request.json\")"
   ]
  },
  {
   "cell_type": "markdown",
   "metadata": {},
   "source": [
    "In order to interact with WEkEO's Harmonised Data Access API, each user first makes sure the file `$HOME/.hdarc` exists with the URL to the API end point and your user and password.  \n",
    "For example, to search for the file .hdarc in the $HOME diretory, the user would open a terminale and run the following command:"
   ]
  },
  {
   "cell_type": "code",
   "execution_count": 16,
   "metadata": {
    "vscode": {
     "languageId": "r"
    }
   },
   "outputs": [],
   "source": [
    "system(\"find $HOME -type f -name .hdar\")"
   ]
  },
  {
   "cell_type": "markdown",
   "metadata": {},
   "source": [
    "Then he could copy the code below in the file `$HOME/.hdarc` (in your Unix/Linux environment) and adapt the following template with the credentials of your WEkEO account:"
   ]
  },
  {
   "cell_type": "markdown",
   "metadata": {
    "vscode": {
     "languageId": "raw"
    }
   },
   "source": [
    "```python\n",
    "url: 'https://wekeo-broker.prod.wekeo2.eu/databroker'\n",
    "user_name = #############\n",
    "password = #############"
   ]
  },
  {
   "cell_type": "markdown",
   "metadata": {},
   "source": [
    "If he doesn't have a WEkEO account, please self register at the <a href='https://my.wekeo.eu/web/guest/user-registration' target='_blank'>WEkEO registration page</a>."
   ]
  },
  {
   "cell_type": "markdown",
   "metadata": {},
   "source": [
    "### Load Data Descriptor File and Request Data"
   ]
  },
  {
   "cell_type": "markdown",
   "metadata": {},
   "source": [
    "\n",
    "The Harmonised Data Access API can read your data request from a JSON file. In this JSON file, you can specify the dataset you want to download.  \n",
    "The file is essentially a dictionary and can include the following keys:\n",
    "\n",
    "- **datasetID**: The dataset's collection ID.\n",
    "- **stringChoiceValues**: The type of dataset, e.g., 'Non Time Critical'.\n",
    "- **dataRangeSelectValues**: The time period for which you want to retrieve data.\n",
    "- **boundingBoxValues**: Optional, to define a subset of a global field.\n",
    "\n",
    "You can also obtain a specific example of a JSON file for a particular query from the WEkEO DATA portal."
   ]
  },
  {
   "cell_type": "markdown",
   "metadata": {},
   "source": [
    "### Displaying a JSON Query from a Request Made to the Harmonised Data Access API Through the Data Portal"
   ]
  },
  {
   "cell_type": "markdown",
   "metadata": {},
   "source": [
    "You can load the JSON file using `json.load()`. Alternatively, you can copy and paste the dictionary describing your data directly into a cell, as demonstrated in the YouTube video.\n",
    "\n",
    "For this training session, we have prepared two methods to create the query for selecting the appropriate Sentinel-2 scene and CLC data for the subsequent tasks. The first method involves reading the query from pre-prepared JSON files, while the second method demonstrates how to use the generate_query_template() function to create the query automatically."
   ]
  },
  {
   "cell_type": "code",
   "execution_count": null,
   "metadata": {
    "vscode": {
     "languageId": "r"
    }
   },
   "outputs": [],
   "source": [
    "tryCatch({\n",
    "  data_S2 <- fromJSON(filename_json_S2, simplifyVector = TRUE)\n",
    "  data_S2 <- toJSON(data_S2, pretty = TRUE, auto_unbox = TRUE)\n",
    "}, error = function(e) {\n",
    "  cat('Your JSON file is not in the correct format, or is not found, please check it!\\n')\n",
    "})\n",
    "\n",
    "c <- Client$new()\n",
    "corine_query <- c$generate_query_template(\"EO:CLMS:DAT:CORINE\")"
   ]
  },
  {
   "cell_type": "markdown",
   "metadata": {},
   "source": [
    "### Download Requested Data"
   ]
  },
  {
   "cell_type": "markdown",
   "metadata": {},
   "source": [
    "You can use the client directly to download the data, as shown in the following example."
   ]
  },
  {
   "cell_type": "code",
   "execution_count": null,
   "metadata": {
    "vscode": {
     "languageId": "r"
    }
   },
   "outputs": [],
   "source": [
    "download_dir_path <- file.path(getwd(), \"../../data/download/land\")\n",
    "\n",
    "matches <- c$search(data_S2)\n",
    "cat(\"Sentinel 2:\\n\")\n",
    "matches$download(download_dir_path)\n",
    "\n",
    "matches <- c$search(query_corine)\n",
    "cat(\"\\nCorine Land Cover:\\n\")\n",
    "matches$download(download_dir_path)"
   ]
  },
  {
   "cell_type": "markdown",
   "metadata": {},
   "source": [
    "### Decompressing Sentinel-2 and Corine Land Cover Data"
   ]
  },
  {
   "cell_type": "code",
   "execution_count": 18,
   "metadata": {
    "vscode": {
     "languageId": "r"
    }
   },
   "outputs": [],
   "source": [
    "#rename SAFE files\n",
    "\n",
    "for (item in list.files(download_dir_path)) {\n",
    "  if (grepl(\"SAFE$\", item)) {\n",
    "    file.rename(file.path(download_dir_path, item), file.path(download_dir_path, paste0(item, \".zip\")))\n",
    "  }\n",
    "}"
   ]
  },
  {
   "cell_type": "markdown",
   "metadata": {},
   "source": [
    "If you encounter permission issues when renaming the `.SAFE` file with the code above, you can manually rename it. Right-click the file, select \"Rename,\" and add `.zip` to the end of the filename.  \n",
    "For example, rename `S2A_MSIL2A_20170802T101031_N0205_R022_T32TNN_20170802T101051.SAFE` to `S2A_MSIL2A_20170802T101031_N0205_R022_T32TNN_20170802T101051.SAFE.zip`"
   ]
  },
  {
   "cell_type": "code",
   "execution_count": null,
   "metadata": {
    "vscode": {
     "languageId": "r"
    }
   },
   "outputs": [],
   "source": [
    "processing_dir_path <- file.path(getwd(), \"../../data/processing/land\")\n",
    "\n",
    "extension <- \".zip\"\n",
    "for (item in list.files(download_dir_path)) {\n",
    "  cat(\"Decompressing\", item, \"... \")\n",
    "  if (grepl(paste0(extension, \"$\"), item)) {\n",
    "    file_name <- file.path(download_dir_path, item)\n",
    "    unzip(file_name, exdir = processing_dir_path)\n",
    "  }\n",
    "  cat(\"DONE\\n\")\n",
    "}"
   ]
  },
  {
   "cell_type": "markdown",
   "metadata": {},
   "source": [
    "## Cleanup"
   ]
  },
  {
   "cell_type": "markdown",
   "metadata": {},
   "source": [
    "To ensure a clean workspace and remove all downloaded files and processing artifacts created during this session, run the following code. This will delete any files that were downloaded and processed within this notebook."
   ]
  },
  {
   "cell_type": "code",
   "execution_count": null,
   "metadata": {
    "vscode": {
     "languageId": "r"
    }
   },
   "outputs": [],
   "source": [
    "paths_to_cleanup <- list(\n",
    "  download_dir_path,\n",
    "  processing_dir_path\n",
    ")\n",
    "\n",
    "for (path in paths_to_cleanup) {\n",
    "  if (file.exists(path)) {\n",
    "    if (file.info(path)$isdir) {\n",
    "      unlink(path, recursive = TRUE)\n",
    "    } else {\n",
    "      file.remove(path)\n",
    "    }\n",
    "  }\n",
    "}\n",
    "\n",
    "cat(\"Cleanup complete. All downloaded and processed files have been removed.\\n\")"
   ]
  },
  {
   "cell_type": "markdown",
   "metadata": {},
   "source": [
    "<hr>"
   ]
  },
  {
   "cell_type": "markdown",
   "metadata": {},
   "source": [
    "<p><img src='../../media/land/all_partners_wekeo_2.png' align='left' alt='Logo EU Copernicus' height='400px'></img></p>"
   ]
  }
 ],
 "metadata": {
  "author": "tbd",
  "description": "This notebook shows you how you can access and analyse data from the Copernicus Sentinel-2 satellite and products from the Copernicus Land Monitoring Service (CLMS) with WEkEO.",
  "github": "https://github.com/wekeo/wekeo4land/blob/main/land/Land_S2_CLC_download.ipynb",
  "image": "./img/img_01.png",
  "kernelspec": {
   "display_name": "R",
   "language": "R",
   "name": "ir"
  },
  "language_info": {
   "codemirror_mode": "r",
   "file_extension": ".r",
   "mimetype": "text/x-r-source",
   "name": "R",
   "pygments_lexer": "r",
   "version": "4.0.4"
  },
  "services": {
   "wekeo": {
    "git": {
     "link": "https://github.com/wekeo/wekeo4land/blob/main/land/Land_S2_CLC_download.ipynb",
     "service_contact": "ops@eumetsat.int",
     "service_provider": "EUMETSAT"
    },
    "jupyter": {
     "link": "https://jupyterhub-wekeo.apps.eumetsat.dpi.wekeo.eu/hub/user-redirect/lab/tree/public/wekeo4land/land/Land_S2_CLC_download.ipynb",
     "service_contact": "ops@eumetsat.int",
     "service_provider": "EUMETSAT"
    }
   }
  },
  "tags": {
   "domain": "Land",
   "platform": "Sentinel-2",
   "sensor": "MSI",
   "service": "CLMS (Land)",
   "subtheme": "Land Cover",
   "tags": "Top-of-atmosphere radiance"
  },
  "title": "Tutorial on basic land applications (data download)"
 },
 "nbformat": 4,
 "nbformat_minor": 4
}
