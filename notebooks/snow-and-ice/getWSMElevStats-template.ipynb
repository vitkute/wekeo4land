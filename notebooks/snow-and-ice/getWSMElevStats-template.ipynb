{
 "cells": [
  {
   "cell_type": "markdown",
   "id": "5072f2e4",
   "metadata": {},
   "source": [
    "<img src='../../media/common/LogoWekeo_Copernicus_RGB_0.png' align='left' height='96px'></img>"
   ]
  },
  {
   "cell_type": "markdown",
   "id": "bccf29cd",
   "metadata": {},
   "source": [
    "<hr>"
   ]
  },
  {
   "cell_type": "markdown",
   "id": "1cd19732",
   "metadata": {},
   "source": [
    "# Analyzing Wet Snow Extent from SWS Time Series Based on Altitude"
   ]
  },
  {
   "cell_type": "markdown",
   "id": "4fed47b4",
   "metadata": {},
   "source": [
    "## Environment Setup\n",
    "Before we begin, we need to prepare our environment by installing and importing the necessary Python libraries."
   ]
  },
  {
   "cell_type": "markdown",
   "metadata": {},
   "source": [
    "### Load Required Libraries\n",
    "\n",
    "Most of the following modules are standard Python modules (tested with Python version 3.7.11, <a href=\"https://github.com/python/cpython/blob/3.7/LICENSE\" target=\"_blank\">License</a>):\n",
    "\n",
    "*Included Python Modules:*  \n",
    "- os : Miscellaneous operating system interfaces\n",
    "- glob : Unix style pathname pattern expansion\n",
    "\n",
    "*Included Python Packages:*\n",
    "- <a href=\"https://gdal.org/api/python.html\" target=\"_blank\">gdal</a> (version 3.0.2)<br> \n",
    "<span style=\"margin-left:3%;\">Tools for programming and manipulating the GDAL (Geospatial Data Abstraction Library). <b>License type:</b> MIT style <a href=\"https://github.com/OSGeo/gdal/blob/master/LICENSE.TXT\" target=\"_blank\">License</a></span><br>\n",
    "- <a href=\"https://numpy.org/\" target=\"_blank\">numpy</a> (version 1.21.5)<br>\n",
    "<span style=\"margin-left:3%;\">NumPy is the fundamental package for array computing with Python. <b>License type:</b> BSD <a href=\"https://www.cgl.ucsf.edu/chimerax/docs/licenses/numpy-LICENSE.txt\" target=\"_blank\">License</a></span>\n",
    "- <a href=\"https://matplotlib.org/\" target=\"_blank\">matplotlib</a> (version 3.5.1)<br>\n",
    "<span style=\"margin-left:3%;\">Python plotting package. <b>License type:</b> Python Software Foundation <a href=\"https://www.cgl.ucsf.edu/chimerax/docs/licenses/matplotlib-LICENSE_QT4_EDITOR.txt\" target=\"_blank\">License</a></span>"
   ]
  },
  {
   "cell_type": "code",
   "execution_count": null,
   "metadata": {},
   "outputs": [],
   "source": [
    "import os\n",
    "import glob\n",
    "\n",
    "from osgeo import gdal\n",
    "import numpy as np\n",
    "import matplotlib.pyplot as plt\n",
    "\n",
    "import zipfile\n",
    "import glob\n",
    "import tarfile\n",
    "\n",
    "from hda import Client"
   ]
  },
  {
   "cell_type": "markdown",
   "id": "e57545f1",
   "metadata": {},
   "source": [
    "## Functions"
   ]
  },
  {
   "cell_type": "markdown",
   "id": "9d727a0e",
   "metadata": {},
   "source": [
    "#### Function to Open and Read GeoTIFF Files, Assuming Downloaded Products Have Already Been Extracted"
   ]
  },
  {
   "cell_type": "code",
   "execution_count": null,
   "metadata": {},
   "outputs": [],
   "source": [
    "def readTif(file_tif):\n",
    "\n",
    "    ds = gdal.Open(file_tif)\n",
    "    \n",
    "    # Projection\n",
    "    proj = ds.GetProjection()\n",
    "\n",
    "    # Dimensions\n",
    "    width = ds.RasterXSize\n",
    "    height = ds.RasterYSize\n",
    "\n",
    "    # Number of bands\n",
    "    count = ds.RasterCount\n",
    "\n",
    "    # Metadata for the raster dataset\n",
    "    meta = ds.GetMetadata()\n",
    "\n",
    "    data = ds.ReadAsArray()\n",
    "\n",
    "    ds = None\n",
    "    \n",
    "    return data, width, height, count, meta, proj"
   ]
  },
  {
   "cell_type": "markdown",
   "id": "9a683fa4",
   "metadata": {},
   "source": [
    "## Usage"
   ]
  },
  {
   "cell_type": "markdown",
   "id": "b4e396d8",
   "metadata": {},
   "source": [
    "#### Downloading SWS and DEM Data\n",
    "\n",
    "To begin our analysis, we first need to download the necessary Snow Water Equivalent (SWS) and Digital Elevation Model (DEM) data. This can be accomplished using the HDA (Harmonized Data Access) client.  \n",
    "The SWS data provides information on the extent of wet snow, while the DEM data offers detailed elevation information for the study area.  \n",
    "By querying the HDA client with specific parameters such as dataset ID, observation period, and bounding box coordinates, we can retrieve and download the relevant datasets to our local directory for further processing and analysis.\n",
    "\n"
   ]
  },
  {
   "cell_type": "code",
   "execution_count": null,
   "id": "5f339775",
   "metadata": {},
   "outputs": [],
   "source": [
    "hda_client = Client()\n",
    "hda_client.time_sleep = 10\n",
    "hda_client.timeout = 10\n",
    "\n",
    "download_dir = os.path.realpath(\"../../data/download/snow-and-ice/products\")\n",
    "\n",
    "query_sws = {\n",
    "  \"dataset_id\": \"EO:CRYO:DAT:HRSI:SWS\",\n",
    "  \"startdate\": \"2022-11-01T01:00:00Z\",\n",
    "  \"enddate\": \"2022-12-01T01:00:00Z\",\n",
    "  \"bbox\": [\n",
    "        6.213305360358289,\n",
    "        44.881040312330924,\n",
    "        6.27014257275879,\n",
    "        44.925714461959465\n",
    "    ]\n",
    "}\n",
    "\n",
    "query_dem = {\n",
    "  \"dataset_id\": \"EO:DEM:DAT:COP-DEM_GLO-30-DTED__2023_1\",\n",
    "  \"bbox\": [\n",
    "      6.213305360358289,\n",
    "      44.881040312330924,\n",
    "      6.27014257275879,\n",
    "      44.925714461959465\n",
    "  ]\n",
    "}\n",
    "\n",
    "try:\n",
    "    matches = hda_client.search(query_sws, limit=1)\n",
    "    matches.download(download_dir)\n",
    "\n",
    "    matches = hda_client.search(query_dem, limit=1)\n",
    "    matches.download(download_dir)\n",
    "except Exception as e:\n",
    "    print(e)"
   ]
  },
  {
   "cell_type": "markdown",
   "id": "408763ad",
   "metadata": {},
   "source": [
    "#### Organizing Downloaded Files for Analysis\n",
    "\n",
    "To facilitate the analysis, we extract the downloaded SWS and DEM files into dedicated directories. This organization ensures that all relevant data is readily accessible and systematically arranged, enhancing the efficiency of subsequent processing and analysis steps."
   ]
  },
  {
   "cell_type": "code",
   "execution_count": null,
   "id": "4cebb372",
   "metadata": {},
   "outputs": [],
   "source": [
    "prod_dir = os.path.realpath(\"../../data/processing/snow-and-ice/products\")\n",
    "\n",
    "# Find all zip files\n",
    "zip_files = glob.glob(os.path.join(download_dir, \"SWS_*.zip\"))\n",
    "\n",
    "# Create SWS directory if it doesn't exist\n",
    "sws_dir = os.path.join(prod_dir, \"SWS\")\n",
    "if not os.path.exists(sws_dir):\n",
    "    os.makedirs(sws_dir)\n",
    "\n",
    "# Unzip each file \n",
    "for zip_file in zip_files:\n",
    "    with zipfile.ZipFile(zip_file, 'r') as zip_ref:\n",
    "        for member in zip_ref.namelist():\n",
    "            member_path = os.path.join(prod_dir, \"SWS\", os.path.basename(member))\n",
    "            with zip_ref.open(member) as source, open(member_path, 'wb') as target:\n",
    "                target.write(source.read())"
   ]
  },
  {
   "cell_type": "code",
   "execution_count": null,
   "id": "9a0ec630",
   "metadata": {},
   "outputs": [],
   "source": [
    "# Find all tar files\n",
    "tar_files = glob.glob(os.path.join(download_dir, \"*.tar\"))\n",
    "\n",
    "# Create DEM directory if it doesn't exist\n",
    "dem_dir = os.path.join(prod_dir, \"DEM\")\n",
    "if not os.path.exists(dem_dir):\n",
    "    os.makedirs(dem_dir)\n",
    "\n",
    "# Extract each file\n",
    "for tar_file in tar_files:\n",
    "    with tarfile.open(tar_file, 'r') as tar_ref:\n",
    "        for member in tar_ref.getmembers():\n",
    "            if member.name.endswith(\".dt2\"):\n",
    "                member_path = os.path.join(dem_dir, os.path.basename(member.name))\n",
    "                with tar_ref.extractfile(member) as source, open(member_path, 'wb') as target:\n",
    "                    target.write(source.read())"
   ]
  },
  {
   "cell_type": "markdown",
   "id": "e7284259",
   "metadata": {},
   "source": [
    "#### Converting DEM from 30m to 60m Resolution\n",
    "\n",
    "In our analysis, we require a Digital Elevation Model (DEM) with a 60m resolution. However, a 60m DEM is not available for direct download from any source. The Copernicus DEM, which we are using, is available at a 30m resolution. To meet our requirements, we need to convert the 30m DEM to a 60m resolution."
   ]
  },
  {
   "cell_type": "code",
   "execution_count": null,
   "id": "41a9f519",
   "metadata": {},
   "outputs": [],
   "source": [
    "def convert_and_resample(input_dt2, output_tiff, resampled_tiff, x_res_deg, y_res_deg):\n",
    "\n",
    "    dt2_dataset = gdal.Open(input_dt2)\n",
    "    if dt2_dataset is None:\n",
    "        raise ValueError(f\"Could not open {input_dt2}\")\n",
    "\n",
    "    # Convert .dt2 to GeoTIFF\n",
    "    gdal.Translate(output_tiff, dt2_dataset, format='GTiff')\n",
    "\n",
    "    tiff_dataset = gdal.Open(output_tiff)\n",
    "    if tiff_dataset is None:\n",
    "        raise ValueError(f\"Could not open {output_tiff}\")\n",
    "\n",
    "    # Resample the GeoTIFF to the desired resolution in meters \n",
    "    resampled_dataset = gdal.Warp(\n",
    "        resampled_tiff,          \n",
    "        tiff_dataset,    \n",
    "        xRes=x_res_deg,          \n",
    "        yRes=y_res_deg,          \n",
    "        resampleAlg='bilinear'\n",
    "    )\n",
    "\n",
    "    if resampled_dataset is None:\n",
    "        raise ValueError(f\"Could not resample {output_tiff} to {resampled_tiff}\")\n",
    "\n",
    "    dt2_dataset = None\n",
    "    tiff_dataset = None\n",
    "    resampled_dataset = None\n",
    "\n",
    "    print(f\"Successfully converted {input_dt2} to {resampled_tiff} with {x_res_deg} x {y_res_deg} degrees resolution.\")\n",
    "\n",
    "\n",
    "dt2_files = glob.glob(os.path.join(dem_dir, \"*.dt2\"))\n",
    "\n",
    "resampled_dir = os.path.join(dem_dir, \"resampled\")\n",
    "if not os.path.exists(resampled_dir):\n",
    "    os.makedirs(resampled_dir)\n",
    "\n",
    "\n",
    "# 60 meters to degrees conversion \n",
    "x_res_deg = 60 / 111320  \n",
    "y_res_deg = 60 / 111320 \n",
    "\n",
    "# Convert and resample .dt2 files\n",
    "for dt2_file in dt2_files:\n",
    "    base_name = os.path.basename(dt2_file).replace('.dt2', '')\n",
    "    output_tiff = os.path.join(resampled_dir, f\"{base_name}.tif\")\n",
    "    resampled_tiff = os.path.join(resampled_dir, f\"{base_name}_60m.tif\")\n",
    "    convert_and_resample(dt2_file, output_tiff, resampled_tiff, x_res_deg, y_res_deg)\n"
   ]
  },
  {
   "cell_type": "code",
   "execution_count": null,
   "id": "f81517cf",
   "metadata": {},
   "outputs": [],
   "source": [
    "files_wsm = glob.glob(os.path.join(prod_dir, \"SWS\", \"SWS_*_WSM.tif\"))\n",
    "file_elev = glob.glob(os.path.join(prod_dir, \"DEM/resampled\", \"*DEM_60m.tif\"))"
   ]
  },
  {
   "cell_type": "markdown",
   "metadata": {},
   "source": [
    "First, open and read all Wet Snow products for the mountains using the function defined below:"
   ]
  },
  {
   "cell_type": "code",
   "execution_count": null,
   "metadata": {},
   "outputs": [],
   "source": [
    "wsm_datas = []\n",
    "for file_wsm in files_wsm:\n",
    "    wsm_datas.append(readTif(file_wsm)[0])"
   ]
  },
  {
   "cell_type": "markdown",
   "metadata": {},
   "source": [
    "Next, open and read the elevation data:"
   ]
  },
  {
   "cell_type": "code",
   "execution_count": null,
   "metadata": {},
   "outputs": [],
   "source": [
    "elev_data = readTif(file_elev[0])[0]"
   ]
  },
  {
   "cell_type": "markdown",
   "metadata": {},
   "source": [
    "After loading the data, plot the elevation data and its associated colorbar for visualization."
   ]
  },
  {
   "cell_type": "code",
   "execution_count": null,
   "metadata": {},
   "outputs": [],
   "source": [
    "plt.imshow(elev_data);\n",
    "plt.colorbar();"
   ]
  },
  {
   "cell_type": "markdown",
   "metadata": {},
   "source": [
    "Then, plot the first SWS product of the time series, ensuring to add a standard colorbar (not the one attached to the product)\n",
    "\n",
    "For details on the SWS product coding, please refer to the Product User Manual (https://land.copernicus.eu/user-corner/technical-library/hrsi-snow-pum):"
   ]
  },
  {
   "cell_type": "code",
   "execution_count": null,
   "metadata": {},
   "outputs": [],
   "source": [
    "plt.imshow(wsm_datas[0]);\n",
    "plt.colorbar();"
   ]
  },
  {
   "cell_type": "markdown",
   "metadata": {},
   "source": [
    "Now, define the elevation intervals to be used for the analysis.\n",
    "<table><tr><td>\n",
    "Note: in this example, the elevation range covers 0 - 1600 m a.s.l., using an altitude interval of 200 m.\n",
    "</td></tr></table>"
   ]
  },
  {
   "cell_type": "code",
   "execution_count": null,
   "metadata": {},
   "outputs": [],
   "source": [
    "dbin = 200\n",
    "bins = np.arange(0, 1600, dbin)\n",
    "elevs = bins[0:-1]+dbin/2"
   ]
  },
  {
   "cell_type": "markdown",
   "metadata": {},
   "source": [
    "Extract the elevation information for wet snow pixels and add this data to a data frame  for all SWS products in the time series."
   ]
  },
  {
   "cell_type": "code",
   "execution_count": null,
   "metadata": {},
   "outputs": [],
   "source": [
    "val_wet_snow = 110\n",
    "\n",
    "hists = []\n",
    "for wsm_data in wsm_datas:\n",
    "    # Ensure sel matches the dimensions of elev_data\n",
    "    sel = np.zeros_like(elev_data, dtype=bool)\n",
    "    sel[:wsm_data.shape[0], :wsm_data.shape[1]] = (wsm_data == val_wet_snow)\n",
    "    \n",
    "    elev_sel = elev_data[sel]\n",
    "    \n",
    "    hists.append(np.histogram(elev_sel, bins=bins)[0])"
   ]
  },
  {
   "cell_type": "markdown",
   "metadata": {},
   "source": [
    "Retrieve the dates from the SWS product file names to be used as legends in the next step:"
   ]
  },
  {
   "cell_type": "code",
   "execution_count": null,
   "metadata": {},
   "outputs": [],
   "source": [
    "labels_wsm = [os.path.splitext(os.path.basename(ele))[0] for ele in files_wsm]"
   ]
  },
  {
   "cell_type": "markdown",
   "metadata": {},
   "source": [
    "Finally, prepare a plot showing the wet snow extent in relation to the altitude for the full SWS time series used as input.\n",
    "\n",
    "Ensure that the legend (from the previous step) and axis labels are added for clarity."
   ]
  },
  {
   "cell_type": "code",
   "execution_count": null,
   "metadata": {},
   "outputs": [],
   "source": [
    "plt.figure(figsize=(12,8));\n",
    "for hist, label_wsm in zip(hists, labels_wsm):\n",
    "    plt.plot(hist, elevs, label=label_wsm[4:12]);\n",
    "    \n",
    "plt.legend();\n",
    "plt.xlabel(\"Number of pixels\");\n",
    "plt.ylabel(\"Altitude [m a.s.l.]\");"
   ]
  },
  {
   "cell_type": "markdown",
   "id": "c53547cf",
   "metadata": {},
   "source": [
    "\n",
    "***\n",
    "><span style = \"font-family:Verdana; font-size:0.7em\">Copyright © <font color='darkblue'>2022</font>, by ENVEO IT GmbH.</span>  \n",
    "<span style = \"font-family:Verdana; font-size:0.7em\">Contributors: Lars Keuris,  Gabriele Schwaizer</span>  \n",
    "<span style = \"font-family:Verdana; font-size:0.7em\">URL: www.enveo.at</span> \n",
    "***\n",
    "<p style = \"font-family:Verdana; font-size:0.7em; line-height:0.5\">Permission is hereby granted, free of charge, to any person obtaining a copy of this software and associated documentation files, to use the Software without restriction.</p>  \n",
    "<p style = \"font-family:Verdana; font-size:0.7em; line-height:1.15; text-align:justify\">THE SOFTWARE IS PROVIDED AS IS, WITHOUT WARRANTY OF ANYKIND, EXPRESS OR IMPLIED, INCLUDING BUT NOT LIMITED TO THE WARRANTIES OF MERCHANTABILITY, FITNESS FOR A PARTICULAR PURPOSE AND NONINFRINGEMENT. <b>IN NO EVENT SHALL THE COPYRIGHT HOLDER BE LIABLE FOR ANY CLAIM, DIRECT INDIRECT, SPECIAL, INCIDENTAL, OR CONSEQUENTIAL DAMAGES OR OTHER LIABILITY, WHETHER IN AN ACTION OF CONTRACT, TORT OR OTHERWISE, ARISING FROM, OUT OF OR IN CONNECTION WITH THE SOFTWARE OR THE USE OR OTHER DEALINGS IN THE SOFTWARE.</b></p>\n",
    "\n",
    "*** "
   ]
  }
 ],
 "metadata": {
  "kernelspec": {
   "display_name": "Python 3",
   "language": "python",
   "name": "python3"
  },
  "language_info": {
   "codemirror_mode": {
    "name": "ipython",
    "version": 3
   },
   "file_extension": ".py",
   "mimetype": "text/x-python",
   "name": "python",
   "nbconvert_exporter": "python",
   "pygments_lexer": "ipython3",
   "version": "3.9.2"
  }
 },
 "nbformat": 4,
 "nbformat_minor": 5
}
