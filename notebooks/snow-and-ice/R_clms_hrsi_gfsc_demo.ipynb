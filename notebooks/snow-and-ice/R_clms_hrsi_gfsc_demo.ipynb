{
 "cells": [
  {
   "cell_type": "markdown",
   "id": "c5a74d53",
   "metadata": {},
   "source": [
    "<img src='../../media/common/LogoWekeo_Copernicus_RGB_0.png' align='left' height='96px'></img>"
   ]
  },
  {
   "cell_type": "markdown",
   "id": "878d3089",
   "metadata": {},
   "source": [
    "<hr>"
   ]
  },
  {
   "cell_type": "markdown",
   "id": "246e0862-f17c-4f2b-8336-3d52bdbc01aa",
   "metadata": {},
   "source": [
    "## Introduction\n"
   ]
  },
  {
   "cell_type": "markdown",
   "id": "775e17c7",
   "metadata": {},
   "source": [
    "This Jupyter notebook includes examples on:\n",
    "- Access GFSC products through the HDA API\n",
    "- Read and visualize GFSC products\n",
    "- Manipulate the QCFLAGS layer to filter data according to sensor type\n",
    "- Manipulate the AT layer to filter data according to data age"
   ]
  },
  {
   "cell_type": "markdown",
   "id": "2acbaaee",
   "metadata": {},
   "source": [
    "## CLMS HRSI GFSC Product"
   ]
  },
  {
   "cell_type": "markdown",
   "id": "ec5291b0-e7c6-487b-9e9b-b5e2c7c8777b",
   "metadata": {},
   "source": [
    "\n",
    "The daily cumulative Gap-filled Fractional Snow Cover (GFSC) product is generated in near real-time (NRT) for the entire EEA38+UK domain.  It is based on SAR data from the Sentinel-1 (S1) constellation and  \n",
    "optical data from the Sentinel-2 (S2) constellation. This product merges the latest observations to provide a spatially complete overview of snow conditions.\n",
    "\n",
    "The GFSC product offers the extent of snow cover per pixel as a percentage (0% – 100%) with a spatial resolution of 60m x 60m. It utilizes Fractional Snow Cover (FSC), Wet/Dry Snow (WDS), and SAR Wet Snow  \n",
    "(SWS) products as inputs to create a comprehensive composite of snow conditions, reducing observational gaps caused by clouds and limited sensor coverage on a daily basis. The product applies the on-ground  \n",
    "FSC and SWS data and presents the combined information as FSC."
   ]
  },
  {
   "cell_type": "markdown",
   "id": "8f0050ea",
   "metadata": {},
   "source": [
    "## Environment Setup\n",
    "Before we begin, we need to prepare our environment by installing and importing the necessary R packages."
   ]
  },
  {
   "cell_type": "markdown",
   "id": "952102e9",
   "metadata": {},
   "source": [
    "### Install the WEkEO HDA Client"
   ]
  },
  {
   "cell_type": "markdown",
   "id": "98ada2f8",
   "metadata": {},
   "source": [
    "The WEkEO HDA client is a R package.\n",
    "\n",
    "To install the WEkEO HDA client using the package management system, run the following command on Unix/Linux:"
   ]
  },
  {
   "cell_type": "code",
   "execution_count": null,
   "id": "e5d97ecd",
   "metadata": {
    "vscode": {
     "languageId": "r"
    }
   },
   "outputs": [],
   "source": [
    "install.packages('hdar')"
   ]
  },
  {
   "cell_type": "markdown",
   "id": "970329d9-e9f6-49cb-b646-e2a5cddec6b7",
   "metadata": {},
   "source": [
    "### Load Required Libraries"
   ]
  },
  {
   "cell_type": "markdown",
   "id": "d503a082",
   "metadata": {},
   "source": [
    "Please verify that the following requirements are installed before proceeding to the next step:\n",
    "   - `xmltodict`"
   ]
  },
  {
   "cell_type": "code",
   "execution_count": null,
   "id": "136b4bc0-1ab5-4722-a54f-b3fb039617ac",
   "metadata": {
    "vscode": {
     "languageId": "r"
    }
   },
   "outputs": [],
   "source": [
    "library(lubridate)\n",
    "library(terra)\n",
    "library(xml2)\n",
    "\n",
    "library(ggplot2)\n",
    "library(gridExtra)\n",
    "library(scales)\n",
    "\n",
    "library(magrittr)"
   ]
  },
  {
   "cell_type": "markdown",
   "id": "357066c0",
   "metadata": {},
   "source": [
    "### Load WEkEO HDA client"
   ]
  },
  {
   "cell_type": "markdown",
   "id": "08afe6b9",
   "metadata": {},
   "source": [
    "## HDA Client Setup"
   ]
  },
  {
   "cell_type": "markdown",
   "id": "b46b24b1",
   "metadata": {},
   "source": [
    "### WEkEO Account Registration"
   ]
  },
  {
   "cell_type": "markdown",
   "id": "8c6cd4d0",
   "metadata": {},
   "source": [
    "If you don't have a WEkEO account, please self-register at the <a href='https://my.wekeo.eu/web/guest/user-registration' target='_blank'>WEkEO registration page</a>."
   ]
  },
  {
   "cell_type": "markdown",
   "id": "6eeffedf",
   "metadata": {},
   "source": [
    "### API Authentication"
   ]
  },
  {
   "cell_type": "markdown",
   "id": "397e1d57",
   "metadata": {},
   "source": [
    "To interact with WEkEO's Harmonised Data Access API, ensure the file `$HOME/.hdarc` exists with the URL to the API endpoint, and your username and password.  \n",
    "For example, to check if the `.hdarc` file exists in the $HOME directory, open a terminal and run the following command:"
   ]
  },
  {
   "cell_type": "code",
   "execution_count": null,
   "id": "6b42ffb4",
   "metadata": {
    "vscode": {
     "languageId": "r"
    }
   },
   "outputs": [],
   "source": [
    "ls $HOME/.hdarc"
   ]
  },
  {
   "cell_type": "markdown",
   "id": "58f36852",
   "metadata": {},
   "source": [
    "If the file `$HOME/.hdarc` doesn't exist, the user can create it with the code below."
   ]
  },
  {
   "cell_type": "code",
   "execution_count": null,
   "id": "ffda5564",
   "metadata": {
    "vscode": {
     "languageId": "r"
    }
   },
   "outputs": [],
   "source": [
    "# Define the variables\n",
    "user <- \"your_username\"\n",
    "passwd <- \"your_password\"\n",
    "url <- \"https://wekeo-broker.prod.wekeo2.eu/databroker\"\n",
    "\n",
    "hdarc_file <- file.path(Sys.getenv(\"HOME\"), \".hdarc\")\n",
    "\n",
    "# Write to the ~/.hdarc file\n",
    "writeLines(c(\n",
    "    paste(\"u:\", user),\n",
    "    paste(\"p:\", passwd),\n",
    "    paste(\"url:\", url)\n",
    "), hdarc_file)\n",
    "\n",
    "# Set file permissions to restrict access\n",
    "Sys.chmod(hdarc_file, mode = \"600\")"
   ]
  },
  {
   "cell_type": "markdown",
   "id": "e9323098",
   "metadata": {},
   "source": [
    "The hda client provides a fully compliant R client that can be used to search and download products using the Harmonized Data Access WEkEO API.\n",
    "HDA is RESTful interface allowing users to search and download WEkEO datasets.\n",
    "Documentation about its usage can be found at the <a href='https://www.wekeo.eu/' target='_blank'>WEkEO website</a>."
   ]
  },
  {
   "cell_type": "code",
   "execution_count": null,
   "id": "fcecfa2f",
   "metadata": {
    "vscode": {
     "languageId": "r"
    }
   },
   "outputs": [],
   "source": [
    "library(hdar)\n",
    "\n",
    "hda_client <- hdar::Client$new()"
   ]
  },
  {
   "cell_type": "markdown",
   "id": "788350d4",
   "metadata": {},
   "source": [
    "<hr>"
   ]
  },
  {
   "cell_type": "markdown",
   "id": "ddbe72a0",
   "metadata": {},
   "source": [
    "## Process data with HDA Client"
   ]
  },
  {
   "cell_type": "markdown",
   "id": "2687abac-cda8-4fbd-9dc8-b6b3ac1c5691",
   "metadata": {},
   "source": [
    "### Search products"
   ]
  },
  {
   "cell_type": "markdown",
   "id": "58f9abf7-1bcf-41a8-a8e2-1146d27d3955",
   "metadata": {},
   "source": [
    "To search datasets, you need to construct a JSON query. While you can manually create this JSON query or copy it from a manual search in the WEkEO Data Explorer, the most effective way is to use the `generate_query_template()` function. This function automatically generates a query template, simplifying and streamlining the process.\n",
    "<div>\n",
    "<figure><img src='../../media/snow_and_ice/snow_and_ice_apicall.png' height='500px' />\n",
    "    <figcaption><i>S2 Tile T32VMN</i></figcaption>\n",
    "</figure>\n",
    "</div>"
   ]
  },
  {
   "cell_type": "code",
   "execution_count": null,
   "id": "e7da694b-ac40-48ff-b977-4ed7e1baebc3",
   "metadata": {
    "vscode": {
     "languageId": "r"
    }
   },
   "outputs": [],
   "source": [
    "query <- hda_client$generate_query_template(\"EO:CLMS:DAT:CORINE\")\n",
    "print(query)"
   ]
  },
  {
   "cell_type": "markdown",
   "id": "71785026",
   "metadata": {},
   "source": [
    "For more detailed information about the `generate_query_template()` function, including examples and usage tips, you can refer to the dedicated vignette. The vignette provides comprehensive guidance on constructing and customizing queries efficiently.\n",
    "\n",
    "To open the vignette directly from your R environment, use the following command:"
   ]
  },
  {
   "cell_type": "code",
   "execution_count": null,
   "id": "30db11b2",
   "metadata": {
    "vscode": {
     "languageId": "r"
    }
   },
   "outputs": [],
   "source": [
    "vignette(\"generate_query_template\", package = \"hdar\")"
   ]
  },
  {
   "cell_type": "markdown",
   "id": "4bf8a3e8-d68a-42fb-8ff4-a78c59e03c25",
   "metadata": {},
   "source": [
    "For our working example, we will create a query that specifies a single day and tile. In this case, we will use tile T32TVM in the Scandinavian mountains on March 13, 2022:\n",
    "\n",
    "<figure><img src='../../media/snow_and_ice/T32VMN.png' width='400px' />\n",
    "    <figcaption><i>S2 Tile T32VMN</i></figcaption>\n",
    "</figure>"
   ]
  },
  {
   "cell_type": "code",
   "execution_count": null,
   "id": "3fd71676-e173-44d5-8fdf-e22afa5ca0df",
   "metadata": {
    "vscode": {
     "languageId": "r"
    }
   },
   "outputs": [],
   "source": [
    "# query by tile and date\n",
    "tile <- \"T32VMN\"\n",
    "day <- \"13.03.2022\"\n",
    "\n",
    "query <- jsonlite::toJSON(list(\n",
    "  dataset_id = \"EO:CRYO:DAT:HRSI:GFSC\",\n",
    "  startdate = format(dmy(day), \"%Y-%m-%dT00:00:00.000Z\"),\n",
    "  enddate = format(dmy(day), \"%Y-%m-%dT00:00:00.000Z\"),\n",
    "  productIdentifier = tile\n",
    "), auto_unbox = TRUE)"
   ]
  },
  {
   "cell_type": "markdown",
   "id": "0b9ca41b-d9eb-47f5-a3ec-fc1851b68390",
   "metadata": {},
   "source": [
    "Use the HDA Client and the query to search the database, configuring a shorter timeout to handle potential connection or account issues:"
   ]
  },
  {
   "cell_type": "code",
   "execution_count": null,
   "id": "31605175-b5de-4c8b-879e-20cbf59a9166",
   "metadata": {
    "vscode": {
     "languageId": "r"
    }
   },
   "outputs": [],
   "source": [
    "prod_dir <- normalizePath(\"../../data/processing/snow-and-ice/products\")\n",
    "download_dir <- normalizePath(\"../../data/download/snow-and-ice/products\")\n",
    "\n",
    "hda_success <- FALSE\n",
    "tryCatch({\n",
    "  matches <- hda_client$search(query)\n",
    "  hda_success <- TRUE\n",
    "}, error = function(e) {\n",
    "  hda_success <- FALSE\n",
    "  print(e)\n",
    "})"
   ]
  },
  {
   "cell_type": "markdown",
   "id": "501267ab-da1a-4484-83af-8ee78fef51ff",
   "metadata": {},
   "source": [
    "Parse the response from the HDA client and create a list of dictionaries with additional metadata to manage the data more efficiently."
   ]
  },
  {
   "cell_type": "code",
   "execution_count": null,
   "id": "759af917-7109-47b9-a875-49ce27bef28f",
   "metadata": {
    "vscode": {
     "languageId": "r"
    }
   },
   "outputs": [],
   "source": [
    "cat(length(matches$results), \"products found\\n\")\n",
    "\n",
    "# reparse response for a custom list\n",
    "products <- list()\n",
    "for (match in matches$results) {        \n",
    "  product <- match$id\n",
    "  tile <- strsplit(product, '_')[[1]][4]\n",
    "  day <- as.Date(substr(strsplit(product, '_')[[1]][2], 1, 8), \"%Y%m%d\")\n",
    "  curation_time <- as.POSIXct(as.numeric(strsplit(product, '_')[[1]][6]), origin = \"1970-01-01\", tz = \"UTC\")\n",
    "  products <- append(products, list(list(\n",
    "    title = product,\n",
    "    tile = tile,\n",
    "    day = day,\n",
    "    curation_time = curation_time,\n",
    "    dir = file.path(prod_dir, paste0(product))\n",
    "  )))\n",
    "}\n",
    "\n",
    "# summarize products \n",
    "cat(\"Day\\t\\tTile\\tCuration time\\n\")\n",
    "for (product in products) {\n",
    "  cat(\n",
    "    paste(\n",
    "      format(product$day, \"%Y-%m-%d\"), product$tile, format(product$curation_time, \"%Y-%m-%d %H:%M:%S\"),\n",
    "      sep = \"\\t\"\n",
    "    ), \"\\n\"\n",
    "  )\n",
    "}\n",
    "\n",
    "if (length(products) == 0) {\n",
    "  cat(\"No products are available on the disk. Rest of the notebook will not work.\\n\")\n",
    "}"
   ]
  },
  {
   "cell_type": "markdown",
   "id": "a5ccf5ea",
   "metadata": {},
   "source": [
    "### Download Data"
   ]
  },
  {
   "cell_type": "markdown",
   "id": "d8a249f9-1ae1-48c6-85e5-fc6754911e95",
   "metadata": {},
   "source": [
    "Download the products to temporary folders and then move them to the \"products directory\" defined at the beginning.\n",
    "<li>Products are downloaded as zip files but without file extensions. Extract the files before moving them to the products directory.</li>\n",
    "<li>If the products have already been downloaded (i.e., the folder exists), skip the download.</li>"
   ]
  },
  {
   "cell_type": "code",
   "execution_count": null,
   "id": "2186b8de-8633-48d0-b96d-0c641e421d79",
   "metadata": {
    "vscode": {
     "languageId": "r"
    }
   },
   "outputs": [],
   "source": [
    "# Create directories if they don't exist\n",
    "dir.create(prod_dir, showWarnings = FALSE, recursive = TRUE)\n",
    "dir.create(download_dir, showWarnings = FALSE, recursive = TRUE)\n",
    "\n",
    "# Download the files\n",
    "for (product in products) {\n",
    "  if (!(product$title %in% list.files(prod_dir))) {\n",
    "\n",
    "    # find the products in the HDA client response and call download method\n",
    "    matches$download(download_dir, force = FALSE)\n",
    "\n",
    "    cat(product$title, \"was downloaded to\", download_dir, \"\\n\")\n",
    "  } else {\n",
    "    cat(product$title, \"is already in product directory\\n\")\n",
    "  }\n",
    "}"
   ]
  },
  {
   "cell_type": "markdown",
   "id": "eecd9c56",
   "metadata": {},
   "source": [
    "The `force` flag is an optional parameter in the `download()` function that controls whether the function should download a file even if it already exists in the specified output directory. When set to `TRUE`, the `download()` function will bypass the existence check and re-download the file, overwriting any existing file with the same name. This can be useful in scenarios where you need to ensure that you are working with the most up-to-date version of a file or if you suspect that the existing file may be corrupted or incomplete. By default, the `force` flag is set to `FALSE`, meaning the `download()` function will skip the download if the file is already present, saving time and bandwidth. Use this flag judiciously to avoid unnecessary downloads."
   ]
  },
  {
   "cell_type": "code",
   "execution_count": null,
   "id": "fc6be3f9",
   "metadata": {
    "vscode": {
     "languageId": "r"
    }
   },
   "outputs": [],
   "source": [
    "# Unzip the downloaded files\n",
    "for (product in products) {\n",
    "  if (!(product$title %in% list.files(prod_dir))) {\n",
    "\n",
    "    # unzip the downloaded file\n",
    "    zip_file <- file.path(download_dir, paste0(product$title, '.zip'))\n",
    "    unzip(zip_file, exdir = prod_dir)\n",
    "\n",
    "    cat(product$title, \"was unzipped to\", prod_dir, \"\\n\")\n",
    "  }\n",
    "  # add directory information to be used later\n",
    "  product$dir <- file.path(prod_dir, product$title)\n",
    "}"
   ]
  },
  {
   "cell_type": "markdown",
   "id": "e08c84cf",
   "metadata": {},
   "source": [
    "### Read and Visualize Products"
   ]
  },
  {
   "cell_type": "markdown",
   "id": "b26f7a3a-b127-4e80-b557-db56e50f00da",
   "metadata": {},
   "source": [
    "Create functions to read product rasters and metadata, and store them compactly in dictionaries.  \n",
    "The main function will take the directory and title of the product as arguments and return a single dictionary containing all the data."
   ]
  },
  {
   "cell_type": "code",
   "execution_count": null,
   "id": "006f70b9-1971-4650-a0ab-a694bce23111",
   "metadata": {
    "vscode": {
     "languageId": "r"
    }
   },
   "outputs": [],
   "source": [
    "# Define the function to read TIFF images\n",
    "read_tif <- function(file_tif) {\n",
    "  \n",
    "  ds <- rast(file_tif)\n",
    "\n",
    "  data <- as.matrix(ds, wide = TRUE)\n",
    "  data[is.na(data)] <- 255\n",
    "  data <- rast(data)\n",
    "\n",
    "  # Projection\n",
    "  proj <- crs(ds, proj = TRUE)\n",
    "  # Colormap\n",
    "  cmp <- NULL\n",
    "  color_table <- coltab(ds)\n",
    "\n",
    "  if (!is.null(color_table) && !is.null(color_table[[1]])) {\n",
    "    cmp <- apply(color_table[[1]], 1, function(color) {\n",
    "      rgb(color[\"red\"] / 255, color[\"green\"] / 255, color[\"blue\"] / 255)\n",
    "    })\n",
    "  }\n",
    "  list(data = data, proj = proj, cmp = cmp)\n",
    "}\n",
    "\n",
    "# Define the function to read all rasters and XML metadata\n",
    "read_product_files <- function(directory, title) {\n",
    "\n",
    "  gf_result <- read_tif(file.path(directory, paste0(title, \"_GF.tif\")))\n",
    "  proj_gf <- gf_result$proj\n",
    "  cmp_gf <- gf_result$cmp\n",
    "  gf <- gf_result$data\n",
    "\n",
    "  qc_result <- read_tif(file.path(directory, paste0(title, \"_QC.tif\")))\n",
    "  cmp_qc <- qc_result$cmp\n",
    "  qc <- qc_result$data\n",
    "\n",
    "  qcflags <- read_tif(file.path(directory, paste0(title, \"_QCFLAGS.tif\")))$data\n",
    "  at <- read_tif(file.path(directory, paste0(title, \"_AT.tif\")))$data\n",
    "\n",
    "  # read xml metadata\n",
    "  meta <- as_list(read_xml(file.path(directory, paste0(title, \"_MTD.xml\"))))\n",
    "\n",
    "  list(gf = gf, cmp_gf = cmp_gf, qc = qc, cmp_qc = cmp_qc, qcflags = qcflags, at = at, meta = meta, proj_gf = proj_gf)\n",
    "}\n",
    "\n",
    "# Define the function to organize data into a single list\n",
    "read_product_data <- function(directory, title) {\n",
    "  product_files <- read_product_files(directory, title)\n",
    "\n",
    "  # make a list for convenient reading\n",
    "  productData <- list(\n",
    "    GF = product_files$gf,\n",
    "    GF_cmp = product_files$cmp_gf,\n",
    "    QC = product_files$qc,\n",
    "    QC_cmp = product_files$cmp_qc,\n",
    "    QCFLAGS = product_files$qcflags,\n",
    "    AT = product_files$at,\n",
    "    meta = product_files$meta,\n",
    "    proj = product_files$proj_gf\n",
    "  )\n",
    "\n",
    "  return(productData)\n",
    "}\n"
   ]
  },
  {
   "cell_type": "markdown",
   "id": "68211610-945f-4e21-9018-559ef00ebd12",
   "metadata": {},
   "source": [
    "First, we will read the data and metadata of the first product in the list using the functions and directories defined previously:"
   ]
  },
  {
   "cell_type": "code",
   "execution_count": null,
   "id": "1176208a-18c3-448b-995a-6f46ce25b36e",
   "metadata": {
    "vscode": {
     "languageId": "r"
    }
   },
   "outputs": [],
   "source": [
    "product <- products[[1]]\n",
    "productData <- read_product_data(product$dir, product$title)"
   ]
  },
  {
   "cell_type": "code",
   "execution_count": null,
   "id": "2dcf55d7",
   "metadata": {
    "vscode": {
     "languageId": "r"
    }
   },
   "outputs": [],
   "source": [
    "# # print(productData$GF)\n",
    "# v <- rast(productData$GF)\n",
    "# print(dim(v))"
   ]
  },
  {
   "cell_type": "markdown",
   "id": "ae92ceba-f583-467a-89d8-15ddd9cc1e73",
   "metadata": {},
   "source": [
    "The color table in the product includes a \"No data\" label (255) set as transparent. Since the notebook background is white, \"No data\" pixels will be displayed as white, making them indistinguishable from snow pixels. Therefore, we should use a different color for \"No data\" pixels:"
   ]
  },
  {
   "cell_type": "code",
   "execution_count": null,
   "id": "e3cdd8b4-a8ab-4719-9913-3da225d8cffb",
   "metadata": {
    "vscode": {
     "languageId": "r"
    }
   },
   "outputs": [],
   "source": [
    "productData$GF_cmp[[length(productData$GF_cmp)]] <- rgb(255/255, 192/255, 203/255)"
   ]
  },
  {
   "cell_type": "markdown",
   "id": "b45265d8-7339-4e3c-b23c-6793fe8840e9",
   "metadata": {},
   "source": [
    "The default figure size of \"matplotlib\" is too small for the screen, so we need to modify it to enhance visibility."
   ]
  },
  {
   "cell_type": "code",
   "execution_count": null,
   "id": "d429f6b9-8f08-4613-abf3-2c3dfacbb906",
   "metadata": {
    "vscode": {
     "languageId": "r"
    }
   },
   "outputs": [],
   "source": [
    "options(repr.plot.width = 14, repr.plot.height = 12)"
   ]
  },
  {
   "cell_type": "markdown",
   "id": "bde397be-113b-4f52-94e9-7bc323ceea1b",
   "metadata": {},
   "source": [
    "Next, we will draw the GF layer using matplotlib:"
   ]
  },
  {
   "cell_type": "code",
   "execution_count": null,
   "id": "4c946f0f-3126-4efa-93e0-ba950fccb5f6",
   "metadata": {
    "vscode": {
     "languageId": "r"
    }
   },
   "outputs": [],
   "source": [
    "gf_data <- as.data.frame(productData$GF, xy = TRUE)\n",
    "colnames(gf_data) <- c('x', 'y', 'value')\n",
    "\n",
    "# Create a custom normalization to handle the specific values\n",
    "custom_colors <- c(productData$GF_cmp[1:101], \"#FF0000\", \"#00FF00\")\n",
    "\n",
    "# Plot the GF data\n",
    "p <- ggplot(gf_data, aes(x = x, y = y, fill = value)) +\n",
    "  geom_raster(interpolate = FALSE) +\n",
    "  scale_fill_gradientn(colors = c(productData$GF_cmp[1:101], \"#FF0000\", \"#00FF00\")) +\n",
    "  coord_fixed() +\n",
    "  theme_void() +\n",
    "  theme(\n",
    "    legend.position = \"right\",\n",
    "    legend.direction = \"vertical\",\n",
    "    legend.justification = \"center\",\n",
    "    legend.key.height = unit(4, \"cm\"),\n",
    "    legend.box.margin = unit(c(0, 2, 2, 2), \"cm\"),\n",
    "    legend.text = element_text(size = 16),\n",
    "    legend.title = element_blank()\n",
    "  ) +\n",
    "  labs(fill = \"Value\")\n",
    "\n",
    "# Add the extra legend to the plot\n",
    "legend_labels <- c('Value 205: cloud or cloud shadow', 'Value 255: no data')\n",
    "legend_colors <- c(\"#FF0000\", \"#00FF00\")\n",
    "\n",
    "legend <- ggplot() +\n",
    "  geom_point(aes(x = 1, y = 1, color = legend_labels[1]), size = 0) +\n",
    "  geom_point(aes(x = 1, y = 2, color = legend_labels[2]), size = 0) +\n",
    "  scale_color_manual(values = setNames(legend_colors, legend_labels)) +\n",
    "  theme_void() +\n",
    "  theme(\n",
    "    legend.position = \"bottom\",\n",
    "    legend.direction = \"horizontal\",\n",
    "    legend.justification = \"center\",\n",
    "    legend.text = element_text(size = 16),\n",
    "    legend.title = element_blank(),\n",
    "    legend.box.margin = margin(10, 10, 10, 10),\n",
    "    legend.background = element_rect(color = \"black\", fill = NA, size = 0.5)\n",
    "  ) +\n",
    "  guides(color = guide_legend(override.aes = list(size = 5)))\n",
    "\n",
    "# Combine the main plot and the custom legend\n",
    "grid.arrange(legend, p, ncol = 1, heights = c(1, 10))\n"
   ]
  },
  {
   "cell_type": "markdown",
   "id": "9902abe0-1b8f-41ab-8cd9-702f340e7e04",
   "metadata": {},
   "source": [
    "This layer shows gap-filled FSC data, which includes data from up to 7 days before. The XML metadata in the product contains information from all the input products, allowing us to list the input products, their sensing times, and calculate the age of the data relative to the GFSC product."
   ]
  },
  {
   "cell_type": "code",
   "execution_count": null,
   "id": "51d5ec5f-5851-4442-a580-f42839e96fa4",
   "metadata": {
    "vscode": {
     "languageId": "r"
    }
   },
   "outputs": [],
   "source": [
    "cat(\"TYPE\\tSENSING TIME\\t\\tAGE\\n\")\n",
    "\n",
    "metadata <- productData$meta[[\"MD_Metadata\"]][[\"series\"]][[\"DS_OtherAggregate\"]]\n",
    "\n",
    "for (input_meta in metadata) {\n",
    "  input_title <- input_meta$MD_Metadata$fileIdentifier$CharacterString[[1]]\n",
    "  if (is.null(input_title)) {\n",
    "    next()\n",
    "  }\n",
    "\n",
    "  input_type <- strsplit(input_title, \"_\")[[1]][[1]]\n",
    "\n",
    "  identification_info <- input_meta$MD_Metadata$identificationInfo\n",
    "  extent <- identification_info$MD_DataIdentification[[\"extent\"]][[\"EX_Extent\"]]\n",
    "  temporal_element <- extent[[\"temporalElement\"]][[\"EX_TemporalExtent\"]]\n",
    "  time_period <- temporal_element[[\"extent\"]][[\"TimePeriod\"]]\n",
    "  begin_position <- time_period[[\"beginPosition\"]]\n",
    "\n",
    "  input_start_date <- ymd_hms(begin_position)\n",
    "  input_age <- difftime(product$day + days(1), input_start_date, units = \"secs\")\n",
    "\n",
    "  input_age_period <- seconds_to_period(input_age)\n",
    "  formatted_age <- sprintf(\n",
    "    \"%d days, %d:%02d:%02.0f\",\n",
    "    as.integer(input_age_period@day),\n",
    "    as.integer(input_age_period@hour),\n",
    "    minute(input_age_period),\n",
    "    second(input_age_period)\n",
    "  )\n",
    "\n",
    "  formatted_start_date <- format(input_start_date, \"%Y-%m-%d %H:%M:%S\")\n",
    "\n",
    "  cat(input_type, formatted_start_date, formatted_age, \"\\n\", sep = \"\\t\")\n",
    "}\n"
   ]
  },
  {
   "cell_type": "markdown",
   "id": "6f181316-06f5-4818-8f80-68968c719caa",
   "metadata": {},
   "source": [
    "Although the XML metadata provides temporal information as a list, the AT layer contains temporal information for each pixel. The sensing time of each pixel is encoded as \"Unix time\" (seconds since January 1, 1970) in the AT layer. We can create a raster of \"age\" to show the age of the data in days (decimal) from the end of the product day (e.g., the age for a sensing at noon on the same day will be 12 hours)."
   ]
  },
  {
   "cell_type": "code",
   "execution_count": null,
   "id": "661a5016-d275-4c00-a0d0-3e7c8c7c35ce",
   "metadata": {
    "vscode": {
     "languageId": "r"
    }
   },
   "outputs": [],
   "source": [
    "product_midnight_timestamp <- as.numeric(as.POSIXct(product$day) + days(1))\n",
    "productData$age <- (product_midnight_timestamp - productData$AT) / (60 * 60 * 24)"
   ]
  },
  {
   "cell_type": "markdown",
   "id": "5e1c6627-c0fa-4ea5-9566-a42f78bcb488",
   "metadata": {},
   "source": [
    "When \"No data\" is present, the AT layer has a value of \"0\". To handle this, we can use \"NaN\" in the new age raster instead."
   ]
  },
  {
   "cell_type": "code",
   "execution_count": null,
   "id": "76048931-3397-482a-964a-5c7ebf4f41cb",
   "metadata": {
    "vscode": {
     "languageId": "r"
    }
   },
   "outputs": [],
   "source": [
    "productData$age[productData$AT == 0] <- NA"
   ]
  },
  {
   "cell_type": "markdown",
   "id": "e22504de-6f02-4649-8835-c00af2d025e6",
   "metadata": {},
   "source": [
    "Finally, we will draw the new \"age\" raster using matplotlib:"
   ]
  },
  {
   "cell_type": "code",
   "execution_count": null,
   "id": "f9d375d4-9e18-4ee0-b889-1ba79b95758e",
   "metadata": {
    "vscode": {
     "languageId": "r"
    }
   },
   "outputs": [],
   "source": [
    "options(repr.plot.width = 12, repr.plot.height = 10)\n",
    "\n",
    "tab20b_colors <- c(\n",
    "  \"#393b79\", \"#5254a3\", \"#6b6ecf\", \"#9c9ede\",\n",
    "  \"#637939\", \"#8ca252\", \"#b5cf6b\", \"#cedb9c\",\n",
    "  \"#8c6d31\", \"#bd9e39\", \"#e7ba52\", \"#e7cb94\",\n",
    "  \"#843c39\", \"#ad494a\", \"#d6616b\", \"#e7969c\",\n",
    "  \"#7b4173\", \"#a55194\", \"#ce6dbd\", \"#de9ed6\"\n",
    ")\n",
    "\n",
    "age_data <- as.data.frame(productData$age, xy = TRUE)\n",
    "colnames(age_data) <- c('x', 'y', 'value')\n",
    "\n",
    "ggplot(age_data, aes(x = x, y = y, fill = value)) +\n",
    "  geom_raster(interpolate = FALSE) + \n",
    "  scale_fill_gradientn(colours = tab20b_colors, values = rescale(1:20)) +\n",
    "  coord_fixed() +\n",
    "  theme_void() +\n",
    "  theme(\n",
    "    legend.position = \"right\",\n",
    "    legend.direction = \"vertical\",\n",
    "    legend.justification = \"center\",\n",
    "    legend.key.height = unit(4, \"cm\"),\n",
    "    legend.box.margin = unit(c(0, 2, 2, 2), \"cm\"),\n",
    "    legend.text = element_text(size = 16),\n",
    "    legend.title = element_blank()\n",
    "  ) +\n",
    "  labs(fill = \"Age\")"
   ]
  },
  {
   "cell_type": "markdown",
   "id": "cce4e848",
   "metadata": {},
   "source": [
    "### Manipulating AT layer to filter out data according to age of the pixels"
   ]
  },
  {
   "cell_type": "markdown",
   "id": "64d37fe4-dc13-4046-b8d3-b51c9b1380bc",
   "metadata": {},
   "source": [
    "Using the age raster, we can filter out pixels that are \"too old\" for our analysis. We will create a new GF raster that includes only the pixels with an \"age\" of no more than 4 days (i.e., data that is at most 3 days old).\n",
    "<table>\n",
    "<tr>\n",
    "<td>\n",
    "Note: An \"invalid value encountered\" warning may appear due to np.nan values in the age raster, but these pixels will be excluded from the results and won't affect the outcome.\n",
    "</td>\n",
    "</tr>\n",
    "</table>"
   ]
  },
  {
   "cell_type": "code",
   "execution_count": null,
   "id": "e477e9cb",
   "metadata": {
    "vscode": {
     "languageId": "r"
    }
   },
   "outputs": [],
   "source": [
    "# Convert rasters to data frames for ggplot\n",
    "gf_df <- as.data.frame(productData$GF, xy = TRUE) %>% setNames(c(\"x\", \"y\", \"value\"))\n",
    "age_df <- as.data.frame(productData$age, xy = TRUE) %>% setNames(c(\"x\", \"y\", \"value\"))\n",
    "\n",
    "gf_4days <- productData$GF\n",
    "values(gf_4days)[values(productData$age) > 4] <- 255\n",
    "gf_4days_df <- as.data.frame(gf_4days, xy = TRUE) %>% setNames(c(\"x\", \"y\", \"value\"))\n",
    "\n",
    "# Define custom color map and theme\n",
    "color_map <- scale_fill_gradientn(\n",
    "  colors = productData$GF_cmp,\n",
    "  limits = c(0, 255)\n",
    ")\n",
    "theme <- theme_void() +\n",
    "  theme(\n",
    "    legend.position = \"none\",\n",
    "    plot.title = element_text(hjust = 0.5),\n",
    "    panel.border = element_rect(\n",
    "      color = \"black\",\n",
    "      fill = NA,\n",
    "      size = 1\n",
    "    )\n",
    "  )\n",
    "\n",
    "\n",
    "# Create plots\n",
    "p1 <- ggplot(gf_df, aes(x = x, y = y, fill = value)) +\n",
    "  geom_raster(interpolate = FALSE) +\n",
    "  coord_fixed() +\n",
    "  ggtitle(\"GF\") +\n",
    "  color_map +\n",
    "  theme\n",
    "\n",
    "p2 <- ggplot(age_df, aes(x = x, y = y, fill = value <= 4)) +\n",
    "  geom_raster(interpolate = FALSE) +\n",
    "  coord_fixed() +\n",
    "  ggtitle(\"4 Days Mask\") +\n",
    "  scale_fill_manual(values = c(\"TRUE\" = \"#2e712e\", \"FALSE\" = \"#750c3d\")) +\n",
    "  theme\n",
    "\n",
    "p3 <- ggplot(gf_4days_df, aes(x = x, y = y, fill = value)) +\n",
    "  geom_raster(interpolate = FALSE) +\n",
    "  coord_fixed() +\n",
    "  ggtitle(\"GF 4 Days\") +\n",
    "  color_map +\n",
    "  theme\n",
    "\n",
    "# Arrange the plots in a grid with spacing\n",
    "options(repr.plot.width = 18, repr.plot.height = 6)\n",
    "grid.arrange(p1, p2, p3, ncol = 3, padding = unit(1, \"cm\"))\n"
   ]
  },
  {
   "cell_type": "markdown",
   "id": "86507ae2",
   "metadata": {},
   "source": [
    "### Manipulating QCFLAGS layer to filter out data according to sensor type of the pixels"
   ]
  },
  {
   "cell_type": "markdown",
   "id": "acd5610a-a9b2-427f-87ff-9cb3d064b209",
   "metadata": {},
   "source": [
    "The QCFLAGS layer is encoded bitwise, containing information for seven different cases in a combined format. Therefore, reading integer values directly from the raster will not be meaningful.\n",
    "\n",
    "Next, we will draw the QCFLAGS raster using matplotlib:"
   ]
  },
  {
   "cell_type": "code",
   "execution_count": null,
   "id": "efc318e6-4167-48ae-a504-86f453b21b02",
   "metadata": {
    "vscode": {
     "languageId": "r"
    }
   },
   "outputs": [],
   "source": [
    "gf_data <- as.data.frame(productData$QCFLAGS, xy = TRUE)\n",
    "colnames(gf_data) <- c(\"x\", \"y\", \"value\")\n",
    "\n",
    "# Set plot size\n",
    "options(repr.plot.width = 12, repr.plot.height = 10)\n",
    "\n",
    "# Plot the GF data\n",
    "ggplot(gf_data, aes(x = x, y = y, fill = value)) +\n",
    "  geom_raster(interpolate = FALSE) +\n",
    "  scale_fill_gradient(low = \"white\", high = \"black\", na.value = \"white\") +\n",
    "  coord_fixed() +\n",
    "  ggtitle(\"QCFLAGS\") +\n",
    "  theme_void() +\n",
    "  theme(\n",
    "    plot.title = element_text(hjust = 0.5),\n",
    "    legend.position = \"right\",\n",
    "    legend.direction = \"vertical\",\n",
    "    legend.justification = \"center\",\n",
    "    legend.key.height = unit(4, \"cm\"),\n",
    "    legend.box.margin = unit(c(0, 2, 2, 2), \"cm\"),\n",
    "    legend.text = element_text(size = 16),\n",
    "    legend.title = element_blank()\n",
    "  ) +\n",
    "  labs(fill = \"Value\")\n"
   ]
  },
  {
   "cell_type": "markdown",
   "id": "d3aafcb0-6580-4440-8177-8747d41ad232",
   "metadata": {},
   "source": [
    "We need to read the raster bit by bit and interpret the information according to the guidelines in  <a href=\"https://land.copernicus.eu/user-corner/technical-library/hrsi-snow-pum\">the product user manual:</a>"
   ]
  },
  {
   "cell_type": "markdown",
   "id": "6d469c0c-7342-409b-9972-b22e8965b869",
   "metadata": {},
   "source": [
    "➔ bit 0: sun elevation angle too\n",
    "low for an accurate\n",
    "topographic correction (from\n",
    "MAJA) (active=1) (only valid if\n",
    "bit 6 is 0)\n",
    "\n",
    "➔ bit 1: solar elevation angle\n",
    "tangent to slope (from MAJA)\n",
    "(active=1) (only valid if bit 6\n",
    "is 0)\n",
    "\n",
    "➔ bit 2: water (from EU-Hydro)\n",
    "(active=1)\n",
    "\n",
    "➔ bit 3: TCD too high for\n",
    "accurate forest correction\n",
    "(TCD>90%) (active=1) (only\n",
    "valid if bit 6 is 0)\n",
    "\n",
    "➔ bit 4: snow detected under\n",
    "thin clouds (active=1) (only\n",
    "valid if bit 6 is 0)\n",
    "\n",
    "➔ bit 5: TCD not defined or not\n",
    "available (active=1) (only\n",
    "valid if bit 6 is 0)\n",
    "\n",
    "➔ bit 6: sensor type of the\n",
    "satellite data (optical=0,\n",
    "radar=1)"
   ]
  },
  {
   "cell_type": "markdown",
   "id": "e78f482e-c81a-484b-8f27-4891f65cfc82",
   "metadata": {},
   "source": [
    "Create a function that uses bit operations to read a single bit as a boolean raster."
   ]
  },
  {
   "cell_type": "code",
   "execution_count": null,
   "id": "fe90ac28-25de-4d24-afba-5a26821aac7b",
   "metadata": {
    "vscode": {
     "languageId": "r"
    }
   },
   "outputs": [],
   "source": [
    "getBit <- function(raster_data, bit) {\n",
    "  data_matrix <- as.matrix(raster_data, wide = TRUE)\n",
    "\n",
    "  mask <- bitwShiftR(data_matrix, bit) %>% bitwAnd(1)\n",
    "  mask_matrix <- matrix(mask != 0, nrow = nrow(data_matrix), ncol = ncol(data_matrix))\n",
    "\n",
    "  rast(mask_matrix, extent = ext(raster_data), crs = crs(raster_data))\n",
    "}"
   ]
  },
  {
   "cell_type": "markdown",
   "id": "2cef9962-b6c7-42e0-ac05-101b988689d5",
   "metadata": {},
   "source": [
    "Read all the bits and visualize them using matplotlib."
   ]
  },
  {
   "cell_type": "code",
   "execution_count": null,
   "id": "bbfbcb7f-d115-4771-a194-b020d904cd03",
   "metadata": {
    "vscode": {
     "languageId": "r"
    }
   },
   "outputs": [],
   "source": [
    "# Function to create a plot for a specific bit\n",
    "create_plot <- function(bit, data) {\n",
    "  bit_data <- getBit(data, bit)\n",
    "  bit_df <- as.data.frame(bit_data, xy = TRUE)\n",
    "  colnames(bit_df) <- c(\"x\", \"y\", \"value\")\n",
    "\n",
    "  bit_df$numeric_value <- ifelse(bit_df$value == TRUE, 1, 0) %>% factor(levels = c(0, 1))\n",
    "\n",
    "  ggplot(bit_df, aes(x = x, y = y, fill = numeric_value)) +\n",
    "    geom_raster(interpolate = FALSE) +\n",
    "    scale_fill_manual(values = c(\"0\" = \"white\", \"1\" = \"black\")) +\n",
    "    coord_fixed() +\n",
    "    theme_void() +\n",
    "    theme(\n",
    "      legend.position = \"none\",\n",
    "      plot.title = element_text(hjust = 0.5),\n",
    "      panel.border = element_rect(\n",
    "        color = \"black\",\n",
    "        fill = NA,\n",
    "        size = 1\n",
    "      ),\n",
    "      plot.margin = unit(c(0, 0, 0, 0), \"cm\"),\n",
    "    ) +\n",
    "    ggtitle(paste(\"Bit\", bit))\n",
    "}\n",
    "\n",
    "options(repr.plot.width = 16, repr.plot.height = 8)\n",
    "\n",
    "# Create plots for bits 1 to 6\n",
    "plots <- lapply(0:6, create_plot, data = productData$QCFLAGS)\n",
    "\n",
    "# Arrange the plots in a grid\n",
    "grid.arrange(\n",
    "  grobs = plots, ncol = 4,\n",
    "  padding = unit(1, \"cm\")\n",
    ")\n"
   ]
  },
  {
   "cell_type": "markdown",
   "id": "6760ee33-ef62-49c0-bf6c-fe88c7564df5",
   "metadata": {},
   "source": [
    "Another example of how to read the QCFLAGS raster can be found in \"Webinar #2 (13 Oct. 2022): High Resolution Snow and Ice Monitoring\" on the <a href=\"https://land.copernicus.eu/pan-european/biophysical-parameters/high-resolution-snow-and-ice-monitoring/user-section\">CLMS HRSI User Section website.</a>"
   ]
  },
  {
   "cell_type": "markdown",
   "id": "1a6ae688-e879-4e3e-a818-1c0f6770175b",
   "metadata": {},
   "source": [
    "Now, we can use the same function to filter or utilize the GF layer based on different information from QCFLAGS. First, we can separate the GF raster by sensor type: if Bit 6 is 1, the pixel is from radar (S1); if Bit 6 is 0, the sensor is optical (S2). We can create rasters and replace the filtered values with the \"no data\" value (255):"
   ]
  },
  {
   "cell_type": "code",
   "execution_count": null,
   "id": "f788ce1d-c62e-4d25-9331-6364c800e052",
   "metadata": {
    "vscode": {
     "languageId": "r"
    }
   },
   "outputs": [],
   "source": [
    "gf_optical <- productData$GF\n",
    "gf_optical[getBit(productData$QCFLAGS, 6)] <- 255\n",
    "\n",
    "gf_radar <- productData$GF\n",
    "gf_radar[!getBit(productData$QCFLAGS, 6)] <- 255"
   ]
  },
  {
   "cell_type": "markdown",
   "id": "494a6c48-7119-44c9-8551-575e18c346a3",
   "metadata": {},
   "source": [
    "Visualize the separated rasters together using matplotlib."
   ]
  },
  {
   "cell_type": "code",
   "execution_count": null,
   "id": "6f995ffb-5e6e-43e3-a215-83ec353fc0ac",
   "metadata": {
    "vscode": {
     "languageId": "r"
    }
   },
   "outputs": [],
   "source": [
    "gf_optical_df <- as.data.frame(gf_optical, xy = TRUE) %>% setNames(c(\"x\", \"y\", \"value\"))\n",
    "gf_radar_df <- as.data.frame(gf_radar, xy = TRUE) %>% setNames(c(\"x\", \"y\", \"value\"))\n",
    "\n",
    "p1 <- ggplot(gf_df, aes(x = x, y = y, fill = value)) +\n",
    "  geom_raster(interpolate = FALSE) +\n",
    "  coord_fixed() +\n",
    "  ggtitle(\"GF\") +\n",
    "  color_map +\n",
    "  theme\n",
    "\n",
    "p2 <- ggplot(gf_optical_df, aes(x = x, y = y, fill = value)) +\n",
    "  geom_raster(interpolate = FALSE) +\n",
    "  coord_fixed() +\n",
    "  ggtitle(\"Optical only\") +\n",
    "  color_map +\n",
    "  theme\n",
    "\n",
    "p3 <- ggplot(gf_radar_df, aes(x = x, y = y, fill = value)) +\n",
    "  geom_raster(interpolate = FALSE) +\n",
    "  coord_fixed() +\n",
    "  ggtitle(\"Radar only\") +\n",
    "  color_map +\n",
    "  theme  \n",
    "\n",
    "# Arrange the plots in a grid with spacing\n",
    "options(repr.plot.width = 18, repr.plot.height = 6)\n",
    "grid.arrange(p1, p2, p3, ncol = 3, padding = unit(1, \"cm\"))"
   ]
  },
  {
   "cell_type": "markdown",
   "id": "cffc2e90",
   "metadata": {},
   "source": [
    "### One Last Example"
   ]
  },
  {
   "cell_type": "markdown",
   "id": "ab71dc3f-3ce8-424c-9f02-e78c1a84092e",
   "metadata": {},
   "source": [
    "We can combine information from the AT and QCFLAGS layers to filter pixels from the GF layer, for example, selecting only those from the optical sensor and not older than 2 days.\n",
    "\n",
    "<table>\n",
    "<tr><td>\n",
    "Note: An \"invalid value encountered\" warning may appear due to np.nan values in the age raster, but these pixels will be excluded from the results and won't affect the outcome.\n",
    "</td></tr>\n",
    "</table>"
   ]
  },
  {
   "cell_type": "code",
   "execution_count": null,
   "id": "0734b065-50ac-4c76-abc4-6765295dd9b5",
   "metadata": {
    "vscode": {
     "languageId": "r"
    }
   },
   "outputs": [],
   "source": [
    "gf_day_optical <- productData$GF\n",
    "gf_day_optical[getBit(productData$QCFLAGS, 6)] <- 255\n",
    "gf_day_optical[productData$age > 2] <- 255"
   ]
  },
  {
   "cell_type": "markdown",
   "id": "6cd47156-3abe-4db2-b927-4feffe82f978",
   "metadata": {},
   "source": [
    "Visualize both the GF layer and the filtered GF layer using matplotlib."
   ]
  },
  {
   "cell_type": "code",
   "execution_count": null,
   "id": "7dc2209a-0917-4204-8334-f2e334864eda",
   "metadata": {
    "vscode": {
     "languageId": "r"
    }
   },
   "outputs": [],
   "source": [
    "gf_day_optical_df <- as.data.frame(gf_day_optical, xy = TRUE) %>% setNames(c(\"x\", \"y\", \"value\"))\n",
    "\n",
    "p1 <- ggplot(gf_df, aes(x = x, y = y, fill = value)) +\n",
    "  geom_raster(interpolate = FALSE) +\n",
    "  coord_fixed() +\n",
    "  ggtitle(\"GF\") +\n",
    "  color_map +\n",
    "  theme\n",
    "\n",
    "p2 <- ggplot(gf_day_optical_df, aes(x = x, y = y, fill = value)) +\n",
    "  geom_raster(interpolate = FALSE) +\n",
    "  coord_fixed() +\n",
    "  ggtitle(\"1 day Optical Only\") +\n",
    "  color_map +\n",
    "  theme\n",
    "\n",
    "# Arrange the plots in a grid with spacing\n",
    "options(repr.plot.width = 12, repr.plot.height = 6)\n",
    "grid.arrange(p1, p2, ncol = 2, padding = unit(1, \"cm\"))"
   ]
  },
  {
   "cell_type": "markdown",
   "id": "710559e6",
   "metadata": {},
   "source": [
    "## Cleanup"
   ]
  },
  {
   "cell_type": "markdown",
   "id": "5865fcde",
   "metadata": {},
   "source": []
  },
  {
   "cell_type": "markdown",
   "id": "b4b3ec04",
   "metadata": {},
   "source": [
    "To ensure a clean workspace and remove all downloaded files and processing artifacts created during this session, run the following code. This will delete any files that were downloaded and processed within this notebook."
   ]
  },
  {
   "cell_type": "code",
   "execution_count": null,
   "id": "7a19c69e",
   "metadata": {
    "vscode": {
     "languageId": "r"
    }
   },
   "outputs": [],
   "source": [
    "paths_to_cleanup <- c(prod_dir)\n",
    "\n",
    "for (path in paths_to_cleanup) {\n",
    "    if (file.exists(path)) {\n",
    "        if (file.info(path)$isdir) {\n",
    "            unlink(path, recursive = TRUE) # Remove directory and its contents\n",
    "        } else {\n",
    "            file.remove(path) # Remove file\n",
    "        }\n",
    "    }\n",
    "}\n",
    "\n",
    "cat(\"Cleanup complete. All downloaded and processed files have been removed.\\n\")"
   ]
  }
 ],
 "metadata": {
  "kernelspec": {
   "display_name": "R",
   "language": "R",
   "name": "ir"
  },
  "language_info": {
   "codemirror_mode": "r",
   "file_extension": ".r",
   "mimetype": "text/x-r-source",
   "name": "R",
   "pygments_lexer": "r",
   "version": "4.0.4"
  }
 },
 "nbformat": 4,
 "nbformat_minor": 5
}
