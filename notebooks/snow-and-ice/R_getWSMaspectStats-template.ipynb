{
 "cells": [
  {
   "cell_type": "markdown",
   "id": "0d3f5d80",
   "metadata": {},
   "source": [
    "<img src='../../media/common/LogoWekeo_Copernicus_RGB_0.png' align='left' height='96px'></img>"
   ]
  },
  {
   "cell_type": "markdown",
   "id": "b2f5b4be",
   "metadata": {},
   "source": [
    "<hr>"
   ]
  },
  {
   "cell_type": "markdown",
   "id": "417f954a",
   "metadata": {},
   "source": [
    "# Analyzing Wet Snow Extent from SWS Time Series Based on Altitude and Local Aspect"
   ]
  },
  {
   "cell_type": "markdown",
   "id": "55b57af3",
   "metadata": {},
   "source": [
    "This document includes scripts designed for the analysis of downloaded and extracted data on the local disk of a user.\n",
    "\n",
    "This script is specifically developed to analyze the extent of wet snow from SWS time series data, considering factors such as altitude and local aspect. By using this script, users can gain valuable insights into the spatial and temporal patterns of wet snow distribution, which are crucial for various environmental and climatic studies."
   ]
  },
  {
   "cell_type": "markdown",
   "id": "fc1ce870",
   "metadata": {},
   "source": [
    "## Environment Setup\n",
    "Before we begin, we need to prepare our environment by installing and importing the necessary R packages."
   ]
  },
  {
   "cell_type": "markdown",
   "id": "ea1a020e",
   "metadata": {},
   "source": [
    "### Load Required Libraries"
   ]
  },
  {
   "cell_type": "code",
   "execution_count": null,
   "id": "e7897279",
   "metadata": {
    "vscode": {
     "languageId": "r"
    }
   },
   "outputs": [],
   "source": [
    "library(terra)\n",
    "library(fs)\n",
    "library(ggplot2)\n",
    "library(viridis)\n",
    "library(pracma)\n",
    "\n",
    "library(magrittr)\n",
    "library(dplyr)\n",
    "\n",
    "library(hdar)"
   ]
  },
  {
   "cell_type": "markdown",
   "id": "0f4b5128",
   "metadata": {},
   "source": [
    "## Functions"
   ]
  },
  {
   "cell_type": "markdown",
   "id": "1055e7a5",
   "metadata": {},
   "source": [
    "#### Function to Open and Read GeoTIFF Files Assuming Extracted Products from the Catalog"
   ]
  },
  {
   "cell_type": "code",
   "execution_count": null,
   "id": "4826ee8d",
   "metadata": {
    "vscode": {
     "languageId": "r"
    }
   },
   "outputs": [],
   "source": [
    "read_tif <- function(file_tif) {\n",
    "  ds <- rast(file_tif)\n",
    "  \n",
    "  proj <- crs(ds)\n",
    "  width <- ncol(ds)\n",
    "  height <- nrow(ds)\n",
    "  count <- nlyr(ds)\n",
    "  meta <- list(\n",
    "    min = minmax(ds)[1, ],\n",
    "    max = minmax(ds)[2, ],\n",
    "    mean = global(ds, fun = mean, na.rm = TRUE),\n",
    "    sd = global(ds, fun = sd, na.rm = TRUE)\n",
    "  )\n",
    "  \n",
    "  list(data = ds, width = width, height = height, count = count, meta = meta, proj = proj)\n",
    "}"
   ]
  },
  {
   "cell_type": "markdown",
   "id": "9db773d5",
   "metadata": {},
   "source": [
    "#### Function to Calculate Aspect from a Digital Elevation Model"
   ]
  },
  {
   "cell_type": "code",
   "execution_count": null,
   "id": "5044ca00",
   "metadata": {
    "vscode": {
     "languageId": "r"
    }
   },
   "outputs": [],
   "source": [
    "aspect <- function(dem) {\n",
    "  z <- matrix(values(dem), nrow = nrow(dem), ncol = ncol(dem))\n",
    "\n",
    "  grad <- gradient(z)\n",
    "  x <- grad$X\n",
    "  y <- grad$Y\n",
    "  atan2(-x, y)\n",
    "}"
   ]
  },
  {
   "cell_type": "markdown",
   "id": "c6b3204a",
   "metadata": {},
   "source": [
    "## Usage"
   ]
  },
  {
   "cell_type": "markdown",
   "id": "c630c6c9",
   "metadata": {},
   "source": [
    "#### Downloading SWS and DEM Data\n",
    "\n",
    "To begin our analysis, we first need to download the necessary Snow Water Equivalent (SWS) and Digital Elevation Model (DEM) data. This can be accomplished using the HDA (Harmonized Data Access) client.  \n",
    "The SWS data provides information on the extent of wet snow, while the DEM data offers detailed elevation information for the study area.  \n",
    "By querying the HDA client with specific parameters such as dataset ID, observation period, and bounding box coordinates, we can retrieve and download the relevant datasets to our local directory for further processing and analysis."
   ]
  },
  {
   "cell_type": "code",
   "execution_count": null,
   "id": "27b6f5e6",
   "metadata": {
    "vscode": {
     "languageId": "r"
    }
   },
   "outputs": [],
   "source": [
    "hda_client <- hdar::Client$new()\n",
    "\n",
    "download_dir <- \"../../data/download/snow-and-ice/products\"\n",
    "if (!fs::dir_exists(download_dir)) {\n",
    "  fs::dir_create(download_dir)\n",
    "}\n",
    "\n",
    "query_sws <- jsonlite::toJSON(list(\n",
    "  \"dataset_id\" = \"EO:CRYO:DAT:HRSI:SWS\",\n",
    "  \"startdate\" = \"2022-11-01T01:00:00Z\",\n",
    "  \"enddate\" = \"2022-12-01T01:00:00Z\",\n",
    "  \"bbox\" = c(\n",
    "      6.213305360358289,\n",
    "      44.881040312330924,\n",
    "      6.27014257275879,\n",
    "      44.925714461959465\n",
    "  )\n",
    "), auto_unbox = TRUE)\n",
    "\n",
    "query_dem <- jsonlite::toJSON(list(\n",
    "  \"dataset_id\" = \"EO:DEM:DAT:COP-DEM_GLO-30-DTED__2023_1\",\n",
    "  \"bbox\" = c(\n",
    "      6.213305360358289,\n",
    "      44.881040312330924,\n",
    "      6.27014257275879,\n",
    "      44.925714461959465\n",
    "  )\n",
    "), auto_unbox = TRUE)\n",
    "\n",
    "tryCatch({\n",
    "    matches <- hda_client$search(query_sws, limit = 3)\n",
    "    matches$download(download_dir)\n",
    "\n",
    "    matches <- hda_client$search(query_dem, limit = 1)\n",
    "    matches$download(download_dir) \n",
    "}, error = function(e) {\n",
    "    print(e)\n",
    "})"
   ]
  },
  {
   "cell_type": "markdown",
   "id": "0181ce44",
   "metadata": {},
   "source": [
    "#### Organizing Downloaded Files for Analysis\n",
    "\n",
    "To facilitate the analysis, we extract the downloaded SWS and DEM files into dedicated directories. This organization ensures that all relevant data is readily accessible and systematically arranged, enhancing the efficiency of subsequent processing and analysis steps."
   ]
  },
  {
   "cell_type": "code",
   "execution_count": null,
   "metadata": {
    "vscode": {
     "languageId": "r"
    }
   },
   "outputs": [],
   "source": [
    "prod_dir <- \"../../data/processing/snow-and-ice/products\"\n",
    "if (!fs::dir_exists(prod_dir)) {\n",
    "  fs::dir_create(prod_dir)\n",
    "}\n",
    "\n",
    "# Find all zip files\n",
    "zip_files <- fs::dir_ls(download_dir, regexp = \"SWS_.*\\\\.zip$\")\n",
    "\n",
    "# Create SWS directory if it doesn't exist\n",
    "sws_dir <- fs::path(prod_dir, \"SWS\")\n",
    "if (!fs::dir_exists(sws_dir)) {\n",
    "    fs::dir_create(sws_dir)\n",
    "}\n",
    "\n",
    "# Unzip each file\n",
    "for (zip_file in zip_files) {\n",
    "    zip::unzip(zip_file, exdir = sws_dir)\n",
    "}"
   ]
  },
  {
   "cell_type": "code",
   "execution_count": null,
   "id": "2896312c",
   "metadata": {
    "vscode": {
     "languageId": "r"
    }
   },
   "outputs": [],
   "source": [
    "# Find all tar files\n",
    "tar_files <- fs::dir_ls(download_dir, glob = \"*.tar\")\n",
    "\n",
    "dem_dir <- fs::path(prod_dir, \"DEM\")\n",
    "if (!fs::dir_exists(dem_dir)) {\n",
    "    fs::dir_create(dem_dir)\n",
    "}\n",
    "\n",
    "# Extract each file\n",
    "for (tar_file in tar_files) {\n",
    "    untar(tar_file, exdir = dem_dir)\n",
    "}"
   ]
  },
  {
   "cell_type": "markdown",
   "id": "937d9a2c",
   "metadata": {},
   "source": [
    "#### Converting DEM from 30m to 60m Resolution\n",
    "\n",
    "In our analysis, we require a Digital Elevation Model (DEM) with a 60m resolution. However, a 60m DEM is not available for direct download from any source. The Copernicus DEM, which we are using, is available at a 30m resolution. To meet our requirements, we need to convert the 30m DEM to a 60m resolution."
   ]
  },
  {
   "cell_type": "code",
   "execution_count": null,
   "id": "ee248627",
   "metadata": {
    "vscode": {
     "languageId": "r"
    }
   },
   "outputs": [],
   "source": [
    "convert_and_resample <- function(input_dt2, output_tiff, resampled_tiff, x_res_deg, y_res_deg) {\n",
    "\n",
    "    dt2_dataset <- rast(input_dt2)\n",
    "    if (is.null(dt2_dataset)) {\n",
    "        stop(paste(\"Could not open\", input_dt2))\n",
    "    }\n",
    "\n",
    "    # Convert .dt2 to GeoTIFF\n",
    "    writeRaster(dt2_dataset, output_tiff, overwrite = TRUE, filetype = \"GTiff\")\n",
    "\n",
    "    tiff_dataset <- rast(output_tiff)\n",
    "    if (is.null(tiff_dataset)) {\n",
    "        stop(paste(\"Could not open\", output_tiff))\n",
    "    }\n",
    "\n",
    "    # Create an empty raster with the desired resolution\n",
    "    target_res <- c(x_res_deg, y_res_deg)\n",
    "    template <- rast(tiff_dataset)\n",
    "    res(template) <- target_res\n",
    "\n",
    "    # Resample the GeoTIFF to the desired resolution\n",
    "    resampled_dataset <- resample(tiff_dataset, template, method = \"bilinear\")\n",
    "\n",
    "    if (is.null(resampled_dataset)) {\n",
    "        stop(paste(\"Could not resample\", output_tiff, \"to\", resampled_tiff))\n",
    "    }\n",
    "\n",
    "    writeRaster(resampled_dataset, resampled_tiff, overwrite = TRUE, filetype = \"GTiff\")\n",
    "\n",
    "    print(paste(\"Successfully converted\", input_dt2, \"to\", resampled_tiff, \"with\", x_res_deg, \"x\", y_res_deg, \"degrees resolution.\"))\n",
    "}\n",
    "\n",
    "dt2_files <- fs::dir_ls(dem_dir, recurse = TRUE, regexp = \".*\\\\.dt2$\")\n",
    "\n",
    "resampled_dir <- fs::path(dem_dir, \"resampled\")\n",
    "if (!fs::dir_exists(resampled_dir)) {\n",
    "    fs::dir_create(resampled_dir)\n",
    "}\n",
    "\n",
    "# 60 meters to degrees conversion\n",
    "x_res_deg <- 60 / 111320\n",
    "y_res_deg <- 60 / 111320\n",
    "\n",
    "# Convert and resample .dt2 files\n",
    "for (dt2_file in dt2_files) {\n",
    "    base_name <- path_ext_remove(path_file(dt2_file))\n",
    "    output_tiff <- fs::path(resampled_dir, paste0(base_name, \".tif\"))\n",
    "    resampled_tiff <- fs::path(resampled_dir, paste0(base_name, \"_60m.tif\"))\n",
    "    convert_and_resample(dt2_file, output_tiff, resampled_tiff, x_res_deg, y_res_deg)\n",
    "}"
   ]
  },
  {
   "cell_type": "code",
   "execution_count": null,
   "id": "9350056e",
   "metadata": {
    "vscode": {
     "languageId": "r"
    }
   },
   "outputs": [],
   "source": [
    "files_wsm <- fs::dir_ls(fs::path(prod_dir, \"SWS\"), recurse = TRUE, regexp = \"SWS_.*_WSM\\\\.tif\")\n",
    "file_elev <- fs::dir_ls(fs::path(prod_dir, \"DEM/resampled\"), recurse = TRUE, regexp =  \".*DEM_60m\\\\.tif\")"
   ]
  },
  {
   "cell_type": "markdown",
   "id": "56dd6b7e",
   "metadata": {},
   "source": [
    "#### Open and Read the DEM File"
   ]
  },
  {
   "cell_type": "code",
   "execution_count": null,
   "id": "90ba301a",
   "metadata": {
    "vscode": {
     "languageId": "r"
    }
   },
   "outputs": [],
   "source": [
    "elev_data <- read_tif(file_elev[1])$data\n",
    "elev_data[is.na(elev_data)] <- 255"
   ]
  },
  {
   "cell_type": "markdown",
   "id": "814a8bdf",
   "metadata": {},
   "source": [
    "#### Calculate the aspect from the DEM using the function defined in Box [3], and plot the resulting layer.\n",
    "<table><tr><td>\n",
    "Note: aspect calculation in the function provides the aspect in radians. For the illustration with the windrose toolbox, aspect information must be converted to degress, scaled between 0 and 360°. So, an offset of 180° is added to the conversion formula to rescale values from range [-180, 180] to [0, 360].\n",
    "</td></tr></table>"
   ]
  },
  {
   "cell_type": "code",
   "execution_count": null,
   "id": "4100fae3",
   "metadata": {
    "vscode": {
     "languageId": "r"
    }
   },
   "outputs": [],
   "source": [
    "# Calculate aspect\n",
    "asp_data <- aspect(elev_data)\n",
    "\n",
    "# Convert aspect to degrees\n",
    "aspdeg <- (180 / pi) * asp_data + 180\n",
    "aspdeg[is.na(aspdeg)] <- 0\n",
    "aspdeg <- rast(aspdeg)\n",
    "\n",
    "# Plot the aspect data\n",
    "asp_df <- as.data.frame(aspdeg, xy = TRUE)\n",
    "colnames(asp_df) <- c(\"x\", \"y\", \"aspect\")\n",
    "\n",
    "options(repr.plot.width = 10, repr.plot.height = 8)\n",
    "ggplot(asp_df, \n",
    "    aes(x = x, y = y, fill = aspect)) +\n",
    "    geom_raster() +\n",
    "    coord_fixed() +\n",
    "    scale_fill_viridis_c(breaks = seq(0, 360, by = 50)) +\n",
    "    scale_x_continuous(breaks = seq(min(asp_df$y), max(asp_df$y), by = 250)) +\n",
    "    scale_y_continuous(breaks = seq(min(asp_df$x), max(asp_df$x), by = 250)) +\n",
    "    theme_minimal() +\n",
    "    theme(\n",
    "        legend.text = element_text(size = 16), \n",
    "        legend.title = element_blank(),\n",
    "        legend.key.height = unit(2, \"cm\"),\n",
    "        axis.title.x = element_blank(),\n",
    "        axis.title.y = element_blank()\n",
    "    )"
   ]
  },
  {
   "cell_type": "markdown",
   "id": "7599b76b",
   "metadata": {},
   "source": [
    "#### Open and read all Wet Snow products for the Mountains:"
   ]
  },
  {
   "cell_type": "code",
   "execution_count": null,
   "id": "619d8ea7",
   "metadata": {
    "vscode": {
     "languageId": "r"
    }
   },
   "outputs": [],
   "source": [
    "wsm_datas <- list()\n",
    "\n",
    "for (file_wsm in files_wsm) {\n",
    "  wsm_datas <- append(wsm_datas, list(read_tif(file_wsm)$data))\n",
    "}"
   ]
  },
  {
   "cell_type": "markdown",
   "id": "da4b331c",
   "metadata": {},
   "source": [
    "#### Extract the aspect and elevation information for wet snow pixels and add this data to a pandas DataFrame for each SWS product in the time series:\n",
    "<table><tr><td>\n",
    "Note: You can activate <b>maxelev</b>, <b>minelev</b>, and <b>elevrange</b> if needed to obtain the minimum and maximum elevation, as well as the elevation range of the selected scene.\n",
    "</td></tr></table>"
   ]
  },
  {
   "cell_type": "code",
   "execution_count": null,
   "metadata": {
    "vscode": {
     "languageId": "r"
    }
   },
   "outputs": [],
   "source": [
    "# Function to create and display wind rose plot for each data frame\n",
    "create_windrose_plot <- function(df) {\n",
    "\n",
    "  # Remove NA values\n",
    "  df <- df %>%\n",
    "    filter(!is.na(elevation) & !is.na(aspect))\n",
    "\n",
    "  # Create bins for elevation\n",
    "  df <- df %>%\n",
    "    mutate(elevation_bin = cut(elevation, breaks = c(seq(0, 3500, by = 350), Inf))) #, include.lowest = TRUE))\n",
    "\n",
    "  # Create a summary data frame for plotting\n",
    "  df_summary <- df %>%\n",
    "    group_by(aspect = cut(aspect, breaks = seq(-22.5, 360-22.5, by = 45), labels = c(\"N\", \"NE\", \"E\", \"SE\", \"S\", \"SW\", \"W\", \"NW\"), include.lowest = TRUE), elevation_bin) %>%\n",
    "    summarize(count = n(), .groups = 'drop') %>%\n",
    "    filter(!is.na(aspect))\n",
    "\n",
    "  ggplot(df_summary, aes(x = aspect, y = count, fill = elevation_bin)) +\n",
    "    geom_col(position = \"dodge\") +\n",
    "    coord_polar(start = -pi/8) +\n",
    "    scale_x_discrete(drop = FALSE) +\n",
    "    scale_fill_viridis_d() +\n",
    "    theme_minimal() +\n",
    "    labs(title = \"\", x = \"Aspect (direction)\", y = \"Count\") +\n",
    "    theme(\n",
    "      axis.title.x = element_blank(),\n",
    "      axis.title.y = element_blank(),\n",
    "      panel.grid.major = element_line(color = \"grey80\"),\n",
    "      panel.grid.minor = element_blank(),\n",
    "      panel.background = element_rect(fill = \"white\"),\n",
    "      legend.key.width = unit(2, \"cm\"),  \n",
    "      legend.text = element_text(size = 12),\n",
    "      legend.title = element_blank()\n",
    "    ) +\n",
    "    scale_y_continuous(labels = scales::comma_format())\n",
    "}\n",
    "\n",
    "val_wet_snow <- 110\n",
    "dataframe_list <- list()\n",
    "\n",
    "for (i in seq_along(wsm_datas)) {\n",
    "    wsm_data <- wsm_datas[[i]]\n",
    "\n",
    "    sel <- (values(wsm_data) == val_wet_snow)\n",
    "    sel[is.na(sel)] <- FALSE\n",
    "\n",
    "    elev_sel <- elev_data[sel]\n",
    "    asp_sel <- aspdeg[sel]\n",
    "\n",
    "    df <- data.frame(elevation = elev_sel, aspect = asp_sel)\n",
    "    colnames(df) <- c(\"elevation\", \"aspect\")\n",
    "    dataframe_list[[i]] <- df\n",
    "}\n",
    "\n",
    "for (df in dataframe_list) {\n",
    "  if (length(df$elevation) > 0) {\n",
    "   print(create_windrose_plot(df))\n",
    "  }\n",
    "}\n"
   ]
  },
  {
   "cell_type": "markdown",
   "id": "662b6437",
   "metadata": {},
   "source": [
    "***\n",
    "><span style = \"font-family:Verdana; font-size:0.7em\">Copyright © <font color='darkblue'>2022</font>, by ENVEO IT GmbH.</span>  \n",
    "<span style = \"font-family:Verdana; font-size:0.7em\">Contributors: Gabriele Schwaizer, Lars Keuris</span>  \n",
    "<span style = \"font-family:Verdana; font-size:0.7em\">URL: www.enveo.at</span> \n",
    "***\n",
    "<p style = \"font-family:Verdana; font-size:0.7em; line-height:0.5\">Permission is hereby granted, free of charge, to any person obtaining a copy of this software and associated documentation files, to use the Software without restriction.</p>  \n",
    "<p style = \"font-family:Verdana; font-size:0.7em; line-height:1.15; text-align:justify\">THE SOFTWARE IS PROVIDED AS IS, WITHOUT WARRANTY OF ANYKIND, EXPRESS OR IMPLIED, INCLUDING BUT NOT LIMITED TO THE WARRANTIES OF MERCHANTABILITY, FITNESS FOR A PARTICULAR PURPOSE AND NONINFRINGEMENT. <b>IN NO EVENT SHALL THE COPYRIGHT HOLDER BE LIABLE FOR ANY CLAIM, DIRECT INDIRECT, SPECIAL, INCIDENTAL, OR CONSEQUENTIAL DAMAGES OR OTHER LIABILITY, WHETHER IN AN ACTION OF CONTRACT, TORT OR OTHERWISE, ARISING FROM, OUT OF OR IN CONNECTION WITH THE SOFTWARE OR THE USE OR OTHER DEALINGS IN THE SOFTWARE.</b></p>\n",
    "\n",
    "*** "
   ]
  }
 ],
 "metadata": {
  "kernelspec": {
   "display_name": "R",
   "language": "R",
   "name": "ir"
  },
  "language_info": {
   "codemirror_mode": "r",
   "file_extension": ".r",
   "mimetype": "text/x-r-source",
   "name": "R",
   "pygments_lexer": "r",
   "version": "4.0.4"
  }
 },
 "nbformat": 4,
 "nbformat_minor": 5
}
