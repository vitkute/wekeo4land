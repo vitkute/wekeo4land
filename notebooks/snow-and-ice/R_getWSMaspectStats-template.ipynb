{
 "cells": [
  {
   "cell_type": "markdown",
   "id": "0d3f5d80",
   "metadata": {},
   "source": [
    "<img src='../../media/common/LogoWekeo_Copernicus_RGB_0.png' align='left' height='96px'></img>"
   ]
  },
  {
   "cell_type": "markdown",
   "id": "b2f5b4be",
   "metadata": {},
   "source": [
    "<hr>"
   ]
  },
  {
   "cell_type": "markdown",
   "id": "417f954a",
   "metadata": {},
   "source": [
    "# Analyzing Wet Snow Extent from SWS Time Series Based on Altitude and Local Aspect"
   ]
  },
  {
   "cell_type": "markdown",
   "id": "55b57af3",
   "metadata": {},
   "source": [
    "This document includes scripts designed for the analysis of downloaded and extracted data on the local disk of a user.\n",
    "\n",
    "This script is specifically developed to analyze the extent of wet snow from SWS time series data, considering factors such as altitude and local aspect. By using this script, users can gain valuable insights into the spatial and temporal patterns of wet snow distribution, which are crucial for various environmental and climatic studies."
   ]
  },
  {
   "cell_type": "markdown",
   "id": "fc1ce870",
   "metadata": {},
   "source": [
    "## Environment Setup\n",
    "Before we begin, we need to prepare our environment by installing and importing the necessary R packages."
   ]
  },
  {
   "cell_type": "markdown",
   "id": "ea1a020e",
   "metadata": {},
   "source": [
    "### Load Required Libraries"
   ]
  },
  {
   "cell_type": "code",
   "execution_count": null,
   "id": "e7897279",
   "metadata": {
    "vscode": {
     "languageId": "r"
    }
   },
   "outputs": [],
   "source": [
    "library(terra)\n",
    "library(fs)\n",
    "library(ggplot2)\n",
    "library(viridis)\n",
    "library(pracma)\n",
    "\n",
    "library(magrittr)\n",
    "library(dplyr)\n"
   ]
  },
  {
   "cell_type": "markdown",
   "id": "0f4b5128",
   "metadata": {},
   "source": [
    "## Functions"
   ]
  },
  {
   "cell_type": "markdown",
   "id": "1055e7a5",
   "metadata": {},
   "source": [
    "#### Function to Open and Read GeoTIFF Files Assuming Extracted Products from the Catalog"
   ]
  },
  {
   "cell_type": "code",
   "execution_count": 2,
   "id": "4826ee8d",
   "metadata": {
    "vscode": {
     "languageId": "r"
    }
   },
   "outputs": [],
   "source": [
    "read_tif <- function(file_tif) {\n",
    "  ds <- rast(file_tif)\n",
    "\n",
    "  print(dim(ds))\n",
    "  \n",
    "  proj <- crs(ds)\n",
    "  width <- ncol(ds)\n",
    "  height <- nrow(ds)\n",
    "  count <- nlyr(ds)\n",
    "  meta <- list(\n",
    "    min = minmax(ds)[1, ],\n",
    "    max = minmax(ds)[2, ],\n",
    "    mean = global(ds, fun = mean, na.rm = TRUE),\n",
    "    sd = global(ds, fun = sd, na.rm = TRUE)\n",
    "  )\n",
    "  \n",
    "  list(data = ds, width = width, height = height, count = count, meta = meta, proj = proj)\n",
    "}"
   ]
  },
  {
   "cell_type": "markdown",
   "id": "9db773d5",
   "metadata": {},
   "source": [
    "#### Function to Calculate Aspect from a Digital Elevation Model"
   ]
  },
  {
   "cell_type": "code",
   "execution_count": 3,
   "id": "5044ca00",
   "metadata": {
    "vscode": {
     "languageId": "r"
    }
   },
   "outputs": [],
   "source": [
    "aspect <- function(dem) {\n",
    "  z <- matrix(values(dem), nrow = nrow(dem), ncol = ncol(dem))\n",
    "\n",
    "  grad <- gradient(z)\n",
    "  x <- grad$X\n",
    "  y <- grad$Y\n",
    "  atan2(-x, y)\n",
    "}\n"
   ]
  },
  {
   "cell_type": "markdown",
   "id": "c6b3204a",
   "metadata": {},
   "source": [
    "## Usage"
   ]
  },
  {
   "cell_type": "markdown",
   "id": "692f58c3",
   "metadata": {},
   "source": [
    "<font color='red'>Enter a valid path and file names into the following box. These are mandatory as input for all following steps:</font>\n",
    "***\n",
    "\n",
    "#### <font color='#0080FF'>\"path_input\"</font>: Enter local path on your machine where products are stored. \n",
    "<table><tr><td>\n",
    "Note: If you copy/paste the path from a windows explorer, add an <b>\"r\"</b> before the string to interpret backslashes as slashes, as shown in the example below. If your path contains already slashes, remove the <b>\"r\"</b> in the beginning of the string.\n",
    "</td></tr></table>\n",
    "\n",
    "#### <font color='#0080FF'> \"files_wsm\"</font>: Define the wet snow product file names to be loaded. \n",
    "<table><tr><td>\n",
    "Note: In the template, all files starting with <b>'SWS_'</b> and ending with <b>'_WSM.tif'</b> are searched.\n",
    "</td></tr></table>\n",
    "\n",
    "#### <font color='#0080FF'> \"file_elev\"</font>: Define the digital elevation model file name with the same geometry as the SWS products to be used for the analysis.\n",
    "\n",
    "<table><tr><td>\n",
    "Note: In this template, the DEM file name must include <b>\"DEM_60m\"</b> and extension should be <b>\".tif\"</b>, and must be stored in the same directory as the SWS products.\n",
    "</td></tr></table>"
   ]
  },
  {
   "cell_type": "code",
   "execution_count": 4,
   "id": "c57c46ae",
   "metadata": {
    "vscode": {
     "languageId": "r"
    }
   },
   "outputs": [
    {
     "name": "stdout",
     "output_type": "stream",
     "text": [
      "[1] \"/home/vagrant/workspace/wekeo4land/data/download/snow-and-ice/SWS/SWS_20240718T183514_S1A_T27WWN_V101_1_QC_DEM_60m_WSM.tif\"\n",
      "[2] \"/home/vagrant/workspace/wekeo4land/data/download/snow-and-ice/SWS/SWS_20240718T183514_S1A_T27WWN_V101_1_WSM.tif\"           \n"
     ]
    }
   ],
   "source": [
    "path_input <- normalizePath(\"../../data/download/snow-and-ice/SWS/\")\n",
    "\n",
    "files_wsm <- list.files(path = path_input, pattern = \"SWS_.*_WSM\\\\.tif$\", full.names = TRUE)\n",
    "file_elev <- list.files(path = path_input, pattern = \".*DEM_60m.*\\\\.tif$\", full.names = TRUE)"
   ]
  },
  {
   "cell_type": "markdown",
   "id": "56dd6b7e",
   "metadata": {},
   "source": [
    "#### Open and Read the DEM File Using the Function Defined in Box [2]:"
   ]
  },
  {
   "cell_type": "code",
   "execution_count": null,
   "id": "90ba301a",
   "metadata": {
    "vscode": {
     "languageId": "r"
    }
   },
   "outputs": [],
   "source": [
    "elev_data <- read_tif(file_elev[1])$data\n",
    "elev_data[is.na(elev_data)] <- 255"
   ]
  },
  {
   "cell_type": "markdown",
   "id": "814a8bdf",
   "metadata": {},
   "source": [
    "#### Calculate the aspect from the DEM using the function defined in Box [3], and plot the resulting layer.\n",
    "<table><tr><td>\n",
    "Note: aspect calculation in the function provides the aspect in radians. For the illustration with the windrose toolbox, aspect information must be converted to degress, scaled between 0 and 360°. So, an offset of 180° is added to the conversion formula to rescale values from range [-180, 180] to [0, 360].\n",
    "</td></tr></table>"
   ]
  },
  {
   "cell_type": "code",
   "execution_count": null,
   "id": "4100fae3",
   "metadata": {
    "vscode": {
     "languageId": "r"
    }
   },
   "outputs": [],
   "source": [
    "# Calculate aspect\n",
    "asp_data <- aspect(elev_data)\n",
    "\n",
    "# Convert aspect to degrees\n",
    "aspdeg <- (180 / pi) * asp_data + 180\n",
    "\n",
    "# Plot the aspect data\n",
    "plot(aspdeg, main = \"Aspect (degrees)\")"
   ]
  },
  {
   "cell_type": "markdown",
   "id": "7599b76b",
   "metadata": {},
   "source": [
    "#### Open and read all Wet Snow products for the Mountains using the function defined in Box [2]:"
   ]
  },
  {
   "cell_type": "code",
   "execution_count": null,
   "id": "619d8ea7",
   "metadata": {
    "vscode": {
     "languageId": "r"
    }
   },
   "outputs": [],
   "source": [
    "wsm_datas <- list()\n",
    "\n",
    "for (file_wsm in files_wsm) {\n",
    "  wsm_datas <- append(wsm_datas, list(read_tif(file_wsm)$data))\n",
    "}"
   ]
  },
  {
   "cell_type": "markdown",
   "id": "da4b331c",
   "metadata": {},
   "source": [
    "#### Extract the aspect and elevation information for wet snow pixels and add this data to a pandas DataFrame for each SWS product in the time series:\n",
    "<table><tr><td>\n",
    "Note: You can activate <b>maxelev</b>, <b>minelev</b>, and <b>elevrange</b> if needed to obtain the minimum and maximum elevation, as well as the elevation range of the selected scene.\n",
    "</td></tr></table>"
   ]
  },
  {
   "cell_type": "code",
   "execution_count": null,
   "metadata": {
    "vscode": {
     "languageId": "r"
    }
   },
   "outputs": [],
   "source": [
    "# Function to create and display wind rose plot for each data frame\n",
    "create_windrose_plot <- function(df) {\n",
    "\n",
    "  # Create bins for elevation\n",
    "  df <- df %>%\n",
    "    mutate(elevation_bin = cut(elevation, breaks = seq(0, 4500, by = 500), include.lowest = TRUE))\n",
    "\n",
    "  # Create a summary data frame for plotting\n",
    "  df_summary <- df %>%\n",
    "    group_by(aspect = cut(aspect, breaks = seq(0, 360, by = 40)), elevation_bin) %>%\n",
    "    summarize(count = n(), .groups = 'drop')\n",
    "  \n",
    "  ggplot(df_summary, aes(x = aspect, y = count, fill = elevation_bin)) +\n",
    "    geom_col(position = \"dodge\") +\n",
    "    coord_polar(start = 0) +\n",
    "    scale_x_discrete(drop = FALSE) +\n",
    "    scale_fill_viridis_d() +\n",
    "    theme_minimal() +\n",
    "    labs(title = \"Wind Rose Plot\", x = \"Aspect (degrees)\", y = \"Count\") +\n",
    "    theme(\n",
    "      axis.title.x = element_blank(),\n",
    "      axis.title.y = element_blank(),\n",
    "      panel.grid.major = element_line(color = \"grey80\"),\n",
    "      panel.grid.minor = element_blank(),\n",
    "      panel.background = element_rect(fill = \"white\")\n",
    "    )\n",
    "}\n",
    "\n",
    "val_wet_snow <- 110\n",
    "dataframe_list <- list()\n",
    "\n",
    "for (i in 1:length(wsm_datas)) {\n",
    "    wsm_data <- wsm_datas[[i]]\n",
    "    sel <- (values(wsm_data) == val_wet_snow)\n",
    "    sel[is.na(sel)] <- FALSE\n",
    "\n",
    "    elev_sel <- elev_data[sel]\n",
    "    asp_sel <- aspdeg[sel]\n",
    "\n",
    "    df <- data.frame(elevation = elev_sel, aspect = asp_sel)\n",
    "    colnames(df) <- c(\"elevation\", \"aspect\")\n",
    "    dataframe_list[[i]] <- df\n",
    "}\n",
    "\n",
    "print(length(dataframe_list))\n",
    "\n",
    "# Plot using ggplot2\n",
    "for (df in dataframe_list) {\n",
    "  print(length(df))\n",
    "  if (length(df$elevation) > 0) {\n",
    "   print(create_windrose_plot(df))\n",
    "  }\n",
    "}\n"
   ]
  },
  {
   "cell_type": "markdown",
   "id": "662b6437",
   "metadata": {},
   "source": [
    "***\n",
    "><span style = \"font-family:Verdana; font-size:0.7em\">Copyright © <font color='darkblue'>2022</font>, by ENVEO IT GmbH.</span>  \n",
    "<span style = \"font-family:Verdana; font-size:0.7em\">Contributors: Gabriele Schwaizer, Lars Keuris</span>  \n",
    "<span style = \"font-family:Verdana; font-size:0.7em\">URL: www.enveo.at</span> \n",
    "***\n",
    "<p style = \"font-family:Verdana; font-size:0.7em; line-height:0.5\">Permission is hereby granted, free of charge, to any person obtaining a copy of this software and associated documentation files, to use the Software without restriction.</p>  \n",
    "<p style = \"font-family:Verdana; font-size:0.7em; line-height:1.15; text-align:justify\">THE SOFTWARE IS PROVIDED AS IS, WITHOUT WARRANTY OF ANYKIND, EXPRESS OR IMPLIED, INCLUDING BUT NOT LIMITED TO THE WARRANTIES OF MERCHANTABILITY, FITNESS FOR A PARTICULAR PURPOSE AND NONINFRINGEMENT. <b>IN NO EVENT SHALL THE COPYRIGHT HOLDER BE LIABLE FOR ANY CLAIM, DIRECT INDIRECT, SPECIAL, INCIDENTAL, OR CONSEQUENTIAL DAMAGES OR OTHER LIABILITY, WHETHER IN AN ACTION OF CONTRACT, TORT OR OTHERWISE, ARISING FROM, OUT OF OR IN CONNECTION WITH THE SOFTWARE OR THE USE OR OTHER DEALINGS IN THE SOFTWARE.</b></p>\n",
    "\n",
    "*** "
   ]
  }
 ],
 "metadata": {
  "kernelspec": {
   "display_name": "R",
   "language": "R",
   "name": "ir"
  },
  "language_info": {
   "codemirror_mode": "r",
   "file_extension": ".r",
   "mimetype": "text/x-r-source",
   "name": "R",
   "pygments_lexer": "r",
   "version": "4.0.4"
  }
 },
 "nbformat": 4,
 "nbformat_minor": 5
}
