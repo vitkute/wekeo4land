{
 "cells": [
  {
   "cell_type": "markdown",
   "id": "5072f2e4",
   "metadata": {},
   "source": [
    "<img src='../../media/common/LogoWekeo_Copernicus_RGB_0.png' align='left' height='96px'></img>"
   ]
  },
  {
   "cell_type": "markdown",
   "id": "bccf29cd",
   "metadata": {},
   "source": [
    "<hr>"
   ]
  },
  {
   "cell_type": "markdown",
   "id": "1cd19732",
   "metadata": {},
   "source": [
    "# Analyzing Wet Snow Extent from SWS Time Series Based on Altitude"
   ]
  },
  {
   "cell_type": "markdown",
   "id": "4fed47b4",
   "metadata": {},
   "source": [
    "## Environment Setup\n",
    "Before we begin, we need to prepare our environment by installing and importing the necessary R packages."
   ]
  },
  {
   "cell_type": "markdown",
   "metadata": {},
   "source": [
    "### Load Required Libraries"
   ]
  },
  {
   "cell_type": "code",
   "execution_count": 43,
   "metadata": {
    "vscode": {
     "languageId": "r"
    }
   },
   "outputs": [],
   "source": [
    "library(terra)\n",
    "library(fs)\n",
    "library(ggplot2)\n",
    "\n",
    "library(magrittr)\n",
    "library(dplyr)\n",
    "library(scales)"
   ]
  },
  {
   "cell_type": "markdown",
   "id": "e57545f1",
   "metadata": {},
   "source": [
    "## Functions"
   ]
  },
  {
   "cell_type": "markdown",
   "id": "9d727a0e",
   "metadata": {},
   "source": [
    "#### Function to Open and Read GeoTIFF Files, Assuming Downloaded Products Have Already Been Extracted"
   ]
  },
  {
   "cell_type": "code",
   "execution_count": 3,
   "metadata": {
    "vscode": {
     "languageId": "r"
    }
   },
   "outputs": [],
   "source": [
    "read_tif <- function(file_tif) {\n",
    "  ds <- rast(file_tif)\n",
    "\n",
    "  print(dim(ds))\n",
    "  \n",
    "  proj <- crs(ds)\n",
    "  width <- ncol(ds)\n",
    "  height <- nrow(ds)\n",
    "  count <- nlyr(ds)\n",
    "  meta <- list(\n",
    "    min = minmax(ds)[1, ],\n",
    "    max = minmax(ds)[2, ],\n",
    "    mean = global(ds, fun = mean, na.rm = TRUE),\n",
    "    sd = global(ds, fun = sd, na.rm = TRUE)\n",
    "  )\n",
    "  \n",
    "  list(data = ds, width = width, height = height, count = count, meta = meta, proj = proj)\n",
    "}"
   ]
  },
  {
   "cell_type": "markdown",
   "id": "9a683fa4",
   "metadata": {},
   "source": [
    "## Usage"
   ]
  },
  {
   "cell_type": "markdown",
   "metadata": {},
   "source": [
    "<font color='red'>Enter a valid path and file names into the following box. These are mandatory as input for all following steps:</font>\n",
    "***\n",
    "\n",
    "#### <font color='#0080FF'>\"path_input\"</font>: Enter local path on your machine where products are stored. \n",
    "<table><tr><td>\n",
    "Note: If you copy/paste the path from a windows explorer, add an <b>\"r\"</b> before the string to interpret backslashes as slashes, as shown in the example below. If your path contains already slashes, remove the <b>\"r\"</b> in the beginning of the string.\n",
    "</td></tr></table>\n",
    "\n",
    "#### <font color='#0080FF'> \"files_wsm\"</font>: Define the wet snow product file names to be loaded. \n",
    "<table><tr><td>\n",
    "Note: In the template, all files starting with <b>'SWS_'</b> and ending with <b>'_WSM.tif'</b> are searched.\n",
    "</td></tr></table>\n",
    "\n",
    "#### <font color='#0080FF'> \"file_elev\"</font>: Define the digital elevation model file name with the same geometry as the SWS products to be used for the analysis.\n",
    "\n",
    "<table><tr><td>\n",
    "Note: In this template, the DEM file name must include <b>\"DEM_60m\"</b> and extension should be <b>\".tif\"</b>, and must be stored in the same directory as the SWS products.\n",
    "</td></tr></table>"
   ]
  },
  {
   "cell_type": "code",
   "execution_count": 4,
   "metadata": {
    "vscode": {
     "languageId": "r"
    }
   },
   "outputs": [],
   "source": [
    "path_input <- normalizePath(\"../../data/download/snow-and-ice/SWS/\")\n",
    "\n",
    "files_wsm <- list.files(path = path_input, pattern = \"SWS_.*_WSM\\\\.tif$\", full.names = TRUE)\n",
    "file_elev <- list.files(path = path_input, pattern = \".*DEM_60m.*\\\\.tif$\", full.names = TRUE)"
   ]
  },
  {
   "cell_type": "markdown",
   "metadata": {},
   "source": [
    "First, open and read all Wet Snow products for the mountains using the function defined in Box [2]."
   ]
  },
  {
   "cell_type": "code",
   "execution_count": null,
   "metadata": {
    "vscode": {
     "languageId": "r"
    }
   },
   "outputs": [],
   "source": [
    "wsm_datas <- list()\n",
    "\n",
    "for (file_wsm in files_wsm) {\n",
    "  wsm_datas <- append(wsm_datas, list(read_tif(file_wsm)$data))\n",
    "}"
   ]
  },
  {
   "cell_type": "markdown",
   "metadata": {},
   "source": [
    "Next, open and read the elevation data using the same function from Box [2]."
   ]
  },
  {
   "cell_type": "code",
   "execution_count": null,
   "metadata": {
    "vscode": {
     "languageId": "r"
    }
   },
   "outputs": [],
   "source": [
    "elev_data <- read_tif(file_elev[1])$data\n",
    "elev_data[is.na(elev_data)] <- 255"
   ]
  },
  {
   "cell_type": "markdown",
   "metadata": {},
   "source": [
    "After loading the data, plot the elevation data and its associated colorbar for visualization."
   ]
  },
  {
   "cell_type": "code",
   "execution_count": null,
   "metadata": {
    "vscode": {
     "languageId": "r"
    }
   },
   "outputs": [],
   "source": [
    "elev_df <- as.data.frame(elev_data, xy = TRUE) %>% setNames(c(\"x\", \"y\", \"value\"))\n",
    "#print(head(elev_df))\n",
    "\n",
    "options(repr.plot.width = 8, repr.plot.height = 6)\n",
    "ggplot(elev_df, aes(x = x, y = y, fill = value)) +\n",
    "  geom_raster(interpolate = FALSE) + \n",
    "  coord_fixed() +\n",
    "  theme_void() +\n",
    "  theme(\n",
    "    legend.position = \"right\",\n",
    "    legend.direction = \"vertical\",\n",
    "    legend.justification = \"center\",\n",
    "    legend.key.height = unit(2, \"cm\"),\n",
    "    legend.box.margin = unit(c(0, 2, 2, 2), \"cm\"),\n",
    "    legend.text = element_text(size = 16),\n",
    "    legend.title = element_blank()\n",
    "  ) +\n",
    "  labs(fill = \"Elevation\")"
   ]
  },
  {
   "cell_type": "markdown",
   "metadata": {},
   "source": [
    "Then, plot the first SWS product of the time series, ensuring to add a standard colorbar (not the one attached to the product)\n",
    "\n",
    "For details on the SWS product coding, please refer to the Product User Manual (https://land.copernicus.eu/user-corner/technical-library/hrsi-snow-pum):"
   ]
  },
  {
   "cell_type": "code",
   "execution_count": null,
   "metadata": {
    "vscode": {
     "languageId": "r"
    }
   },
   "outputs": [],
   "source": [
    "tab20b_colors <- c(\n",
    "  \"#393b79\", \"#5254a3\", \"#6b6ecf\", \"#9c9ede\",\n",
    "  \"#637939\", \"#8ca252\", \"#b5cf6b\", \"#cedb9c\",\n",
    "  \"#8c6d31\", \"#bd9e39\", \"#e7ba52\", \"#e7cb94\",\n",
    "  \"#843c39\", \"#ad494a\", \"#d6616b\", \"#e7969c\",\n",
    "  \"#7b4173\", \"#a55194\", \"#ce6dbd\", \"#de9ed6\"\n",
    ")\n",
    "\n",
    "wsm_data <- wsm_datas[[1]]\n",
    "wsm_data[is.na(wsm_data)] <- 255\n",
    "\n",
    "wsm_df <- as.data.frame(wsm_data, xy = TRUE) %>% setNames(c(\"x\", \"y\", \"value\"))\n",
    "\n",
    "options(repr.plot.width = 8, repr.plot.height = 6)\n",
    "ggplot(wsm_df, aes(x = x, y = y, fill = value)) +\n",
    "  geom_raster(interpolate = FALSE) + \n",
    "   scale_fill_gradientn(colours = tab20b_colors, values = rescale(1:20)) +\n",
    "  coord_fixed() +\n",
    "  theme_void() +\n",
    "  theme(\n",
    "    legend.position = \"right\",\n",
    "    legend.direction = \"vertical\",\n",
    "    legend.justification = \"center\",\n",
    "    legend.key.height = unit(2, \"cm\"),\n",
    "    legend.box.margin = unit(c(0, 2, 2, 2), \"cm\"),\n",
    "    legend.text = element_text(size = 16),\n",
    "    legend.title = element_blank()\n",
    "  ) +\n",
    "  labs(fill = \"Elevation\")\n"
   ]
  },
  {
   "cell_type": "markdown",
   "metadata": {},
   "source": [
    "Now, define the elevation intervals to be used for the analysis.\n",
    "<table><tr><td>\n",
    "Note: in this example, the elevation range covers 1000 - 4000 m a.s.l., using an altitude interval of 200 m.\n",
    "</td></tr></table>"
   ]
  },
  {
   "cell_type": "code",
   "execution_count": 38,
   "metadata": {
    "vscode": {
     "languageId": "r"
    }
   },
   "outputs": [],
   "source": [
    "dbin <- 200\n",
    "bins <- seq(1000, 4000 + dbin, by = dbin)\n",
    "elevs <- bins[1:(length(bins) - 1)] + dbin / 2"
   ]
  },
  {
   "cell_type": "markdown",
   "metadata": {},
   "source": [
    "Extract the elevation information for wet snow pixels and add this data to a database for all SWS products in the time series."
   ]
  },
  {
   "cell_type": "code",
   "execution_count": null,
   "metadata": {
    "vscode": {
     "languageId": "r"
    }
   },
   "outputs": [],
   "source": [
    "val_wet_snow <- 110\n",
    "\n",
    "hists <- list()\n",
    "for (wsm_data in wsm_datas) {\n",
    "  sel <- (values(wsm_data) == val_wet_snow)\n",
    "  \n",
    "  elev_sel <- values(elev_data)[sel]\n",
    "  \n",
    "  hists[[length(hists) + 1]] <- hist(elev_sel, breaks = bins, plot = FALSE)$counts\n",
    "}"
   ]
  },
  {
   "cell_type": "markdown",
   "metadata": {},
   "source": [
    "Retrieve the dates from the SWS product file names to be used as legends in the next step:"
   ]
  },
  {
   "cell_type": "code",
   "execution_count": 40,
   "metadata": {
    "vscode": {
     "languageId": "r"
    }
   },
   "outputs": [],
   "source": [
    "labels_wsm <- sapply(files_wsm, function(ele) {\n",
    "  tools::file_path_sans_ext(basename(ele))\n",
    "})"
   ]
  },
  {
   "cell_type": "markdown",
   "metadata": {},
   "source": [
    "Finally, prepare a plot showing the wet snow extent in relation to the altitude for the full SWS time series used as input.\n",
    "\n",
    "Ensure that the legend (from the previous step) and axis labels are added for clarity."
   ]
  },
  {
   "cell_type": "code",
   "execution_count": null,
   "metadata": {
    "vscode": {
     "languageId": "r"
    }
   },
   "outputs": [],
   "source": [
    "# Prepare the data for plotting\n",
    "plot_data <- data.frame()\n",
    "for (i in seq_along(hists)) {\n",
    "  plot_data <- rbind(plot_data, data.frame(\n",
    "    hist = hists[[i]],\n",
    "    elevs = elevs,\n",
    "    label_wsm = substr(labels_wsm[i], 5, 12)\n",
    "  ))\n",
    "}\n",
    "\n",
    "# Plot the data\n",
    "ggplot(plot_data, aes(x = hist, y = elevs, color = label_wsm)) +\n",
    "  geom_line() +\n",
    "  labs(\n",
    "    title = \"\",\n",
    "    x = \"Number of pixels\",\n",
    "    y = \"Altitude [m a.s.l.]\",\n",
    "    color = \"WSM Label\"\n",
    "  ) +\n",
    "  theme_minimal() +\n",
    "  theme(legend.position = \"right\")"
   ]
  },
  {
   "cell_type": "markdown",
   "id": "c53547cf",
   "metadata": {},
   "source": [
    "\n",
    "***\n",
    "><span style = \"font-family:Verdana; font-size:0.7em\">Copyright © <font color='darkblue'>2022</font>, by ENVEO IT GmbH.</span>  \n",
    "<span style = \"font-family:Verdana; font-size:0.7em\">Contributors: Lars Keuris,  Gabriele Schwaizer</span>  \n",
    "<span style = \"font-family:Verdana; font-size:0.7em\">URL: www.enveo.at</span> \n",
    "***\n",
    "<p style = \"font-family:Verdana; font-size:0.7em; line-height:0.5\">Permission is hereby granted, free of charge, to any person obtaining a copy of this software and associated documentation files, to use the Software without restriction.</p>  \n",
    "<p style = \"font-family:Verdana; font-size:0.7em; line-height:1.15; text-align:justify\">THE SOFTWARE IS PROVIDED AS IS, WITHOUT WARRANTY OF ANYKIND, EXPRESS OR IMPLIED, INCLUDING BUT NOT LIMITED TO THE WARRANTIES OF MERCHANTABILITY, FITNESS FOR A PARTICULAR PURPOSE AND NONINFRINGEMENT. <b>IN NO EVENT SHALL THE COPYRIGHT HOLDER BE LIABLE FOR ANY CLAIM, DIRECT INDIRECT, SPECIAL, INCIDENTAL, OR CONSEQUENTIAL DAMAGES OR OTHER LIABILITY, WHETHER IN AN ACTION OF CONTRACT, TORT OR OTHERWISE, ARISING FROM, OUT OF OR IN CONNECTION WITH THE SOFTWARE OR THE USE OR OTHER DEALINGS IN THE SOFTWARE.</b></p>\n",
    "\n",
    "*** "
   ]
  }
 ],
 "metadata": {
  "kernelspec": {
   "display_name": "R",
   "language": "R",
   "name": "ir"
  },
  "language_info": {
   "codemirror_mode": "r",
   "file_extension": ".r",
   "mimetype": "text/x-r-source",
   "name": "R",
   "pygments_lexer": "r",
   "version": "4.0.4"
  }
 },
 "nbformat": 4,
 "nbformat_minor": 5
}
