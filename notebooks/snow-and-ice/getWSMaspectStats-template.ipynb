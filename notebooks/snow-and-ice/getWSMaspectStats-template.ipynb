{
 "cells": [
  {
   "cell_type": "markdown",
   "id": "0d3f5d80",
   "metadata": {},
   "source": [
    "<img src='../../media/common/LogoWekeo_Copernicus_RGB_0.png' align='left' height='96px'></img>"
   ]
  },
  {
   "cell_type": "markdown",
   "id": "b2f5b4be",
   "metadata": {},
   "source": [
    "<hr>"
   ]
  },
  {
   "cell_type": "markdown",
   "id": "417f954a",
   "metadata": {},
   "source": [
    "# Analyzing Wet Snow Extent from SWS Time Series Based on Altitude and Local Aspect"
   ]
  },
  {
   "cell_type": "markdown",
   "id": "55b57af3",
   "metadata": {},
   "source": [
    "This document includes scripts designed for the analysis of downloaded and extracted data on the local disk of a user.\n",
    "\n",
    "This script is specifically developed to analyze the extent of wet snow from SWS time series data, considering factors such as altitude and local aspect. By using this script, users can gain valuable insights into the spatial and temporal patterns of wet snow distribution, which are crucial for various environmental and climatic studies."
   ]
  },
  {
   "cell_type": "markdown",
   "id": "fc1ce870",
   "metadata": {},
   "source": [
    "## Environment Setup\n",
    "Before we begin, we need to prepare our environment by installing and importing the necessary Python libraries."
   ]
  },
  {
   "cell_type": "markdown",
   "id": "ea1a020e",
   "metadata": {},
   "source": [
    "### Load Required Libraries\n",
    "\n",
    "***\n",
    "Most of the following modules are standard Python modules (tested with Python version 3.7.11, <a href=\"https://github.com/python/cpython/blob/3.7/LICENSE\" target=\"_blank\">License</a>):\n",
    "\n",
    "*Included Python Modules:*  \n",
    "- os : Miscellaneous operating system interfaces\n",
    "- math : Mathematical functions\n",
    "- glob : Unix style pathname pattern expansion\n",
    "\n",
    "*Included Python Packages:*\n",
    "- <a href=\"https://gdal.org/api/python.html\" target=\"_blank\">gdal</a> (version 3.0.2)<br> \n",
    "<span style=\"margin-left:3%;\">Tools for programming and manipulating the GDAL (Geospatial Data Abstraction Library). <b>License type:</b> MIT style <a href=\"https://github.com/OSGeo/gdal/blob/master/LICENSE.TXT\" target=\"_blank\">License</a></span><br>\n",
    "- <a href=\"https://numpy.org/\" target=\"_blank\">numpy</a> (version 1.21.5)<br>\n",
    "<span style=\"margin-left:3%;\">NumPy is the fundamental package for array computing with Python. <b>License type:</b> BSD <a href=\"https://www.cgl.ucsf.edu/chimerax/docs/licenses/numpy-LICENSE.txt\" target=\"_blank\">License</a></span>\n",
    "- <a href=\"https://matplotlib.org/\" target=\"_blank\">matplotlib</a> (version 3.5.1)<br>\n",
    "<span style=\"margin-left:3%;\">Python plotting package. <b>License type:</b> Python Software Foundation <a href=\"https://www.cgl.ucsf.edu/chimerax/docs/licenses/matplotlib-LICENSE_QT4_EDITOR.txt\" target=\"_blank\">License</a></span>\n",
    "- <a href=\"https://pandas.pydata.org/\" target=\"_blank\">pandas</a> (version 1.3.5)<br>\n",
    "<span style=\"margin-left:3%;\">Python Data Analysis Library. <b>License type:</b> New BSD <a href=\"https://pandas.pydata.org/docs/getting_started/overview.html#license\" target=\"_blank\">License</a></span>\n",
    "- <a href=\"https://github.com/python-windrose/windrose.git\" target=\"_blank\">windrose</a> (version 1.6.8)<br>\n",
    "<span style=\"margin-left:3%;\">Python library to manage wind data, draw windroses (also known as polar rose plots), and fit Weibull probability density functions.<br></span><span style=\"margin-left:3%;\"><b>License type:</b> <a href=\"https://github.com/python-windrose/windrose/blob/master/LICENCE_CECILL-B.TXT\" target=\"_blank\">CECILL-B</a> and <a href=\"https://github.com/python-windrose/windrose/blob/master/LICENCE_BSD-3-Clause.TXT\" target=\"_blank\">BSD-3-Clause</a></span>"
   ]
  },
  {
   "cell_type": "code",
   "execution_count": null,
   "id": "e7897279",
   "metadata": {},
   "outputs": [],
   "source": [
    "import os\n",
    "import math\n",
    "import glob\n",
    "\n",
    "from osgeo import gdal\n",
    "import numpy as np\n",
    "import matplotlib.pyplot as plt\n",
    "import matplotlib.cm as cm\n",
    "import pandas as pd\n",
    "from windrose import WindroseAxes"
   ]
  },
  {
   "cell_type": "markdown",
   "id": "0f4b5128",
   "metadata": {},
   "source": [
    "## Functions"
   ]
  },
  {
   "cell_type": "markdown",
   "id": "1055e7a5",
   "metadata": {},
   "source": [
    "#### Function to Open and Read GeoTIFF Files Assuming Extracted Products from the Catalog"
   ]
  },
  {
   "cell_type": "code",
   "execution_count": 3,
   "id": "4826ee8d",
   "metadata": {},
   "outputs": [],
   "source": [
    "def readTif(file_tif):\n",
    "\n",
    "    ds = gdal.Open(file_tif)\n",
    "   # Projection\n",
    "    proj = ds.GetProjection()\n",
    "    # Dimensions\n",
    "    width = ds.RasterXSize\n",
    "    height = ds.RasterYSize\n",
    "    # Number of bands\n",
    "    count = ds.RasterCount\n",
    "    # Metadata for the raster dataset\n",
    "    meta = ds.GetMetadata()\n",
    "    data = ds.ReadAsArray()\n",
    "    print(data)\n",
    "    ds = None\n",
    "    return data, width, height, count, meta, proj"
   ]
  },
  {
   "cell_type": "markdown",
   "id": "9db773d5",
   "metadata": {},
   "source": [
    "#### Function to Calculate Aspect from a Digital Elevation Model"
   ]
  },
  {
   "cell_type": "code",
   "execution_count": 4,
   "id": "5044ca00",
   "metadata": {},
   "outputs": [],
   "source": [
    "def aspect(z):\n",
    "    print(z)\n",
    "    \"\"\"Calculate aspect from DEM.\"\"\"\n",
    "    x, y = np.gradient(z)\n",
    "    w = np.arctan2(-x, y)\n",
    "    print(w)\n",
    "    return w"
   ]
  },
  {
   "cell_type": "markdown",
   "id": "c6b3204a",
   "metadata": {},
   "source": [
    "## Usage"
   ]
  },
  {
   "cell_type": "markdown",
   "id": "692f58c3",
   "metadata": {},
   "source": [
    "<font color='red'>Enter a valid path and file names into the following box. These are mandatory as input for all following steps:</font>\n",
    "***\n",
    "\n",
    "#### <font color='#0080FF'>\"path_input\"</font>: Enter local path on your machine where products are stored. \n",
    "<table><tr><td>\n",
    "Note: If you copy/paste the path from a windows explorer, add an <b>\"r\"</b> before the string to interpret backslashes as slashes, as shown in the example below. If your path contains already slashes, remove the <b>\"r\"</b> in the beginning of the string.\n",
    "</td></tr></table>\n",
    "\n",
    "#### <font color='#0080FF'> \"files_wsm\"</font>: Define the wet snow product file names to be loaded. \n",
    "<table><tr><td>\n",
    "Note: In the template, all files starting with <b>'SWS_'</b> and ending with <b>'_WSM.tif'</b> are searched.\n",
    "</td></tr></table>\n",
    "\n",
    "#### <font color='#0080FF'> \"file_elev\"</font>: Define the digital elevation model file name with the same geometry as the SWS products to be used for the analysis.\n",
    "\n",
    "<table><tr><td>\n",
    "Note: In this template, the DEM file name must include <b>\"DEM_60m\"</b> and extension should be <b>\".tif\"</b>, and must be stored in the same directory as the SWS products.\n",
    "</td></tr></table>"
   ]
  },
  {
   "cell_type": "code",
   "execution_count": 5,
   "id": "c57c46ae",
   "metadata": {},
   "outputs": [],
   "source": [
    "# path_input =  r\"SWS\"\n",
    "path_input = \"../../data/download/snow-and-ice/SWS\"\n",
    "files_wsm = glob.glob(os.path.join(path_input, \"SWS_*_WSM.tif\"))\n",
    "file_elev = glob.glob(os.path.join(path_input, \"*DEM_60m*.tif\"))"
   ]
  },
  {
   "cell_type": "markdown",
   "id": "56dd6b7e",
   "metadata": {},
   "source": [
    "#### Open and Read the DEM File Using the Function Defined in Box [2]:"
   ]
  },
  {
   "cell_type": "code",
   "execution_count": null,
   "id": "90ba301a",
   "metadata": {},
   "outputs": [],
   "source": [
    "elev_data = readTif(file_elev[0])[0]"
   ]
  },
  {
   "cell_type": "markdown",
   "id": "814a8bdf",
   "metadata": {},
   "source": [
    "#### Calculate the aspect from the DEM using the function defined in Box [3], and plot the resulting layer.\n",
    "<table><tr><td>\n",
    "Note: aspect calculation in the function provides the aspect in radians. For the illustration with the windrose toolbox, aspect information must be converted to degress, scaled between 0 and 360°. So, an offset of 180° is added to the conversion formula to rescale values from range [-180, 180] to [0, 360].\n",
    "</td></tr></table>"
   ]
  },
  {
   "cell_type": "code",
   "execution_count": null,
   "id": "4100fae3",
   "metadata": {},
   "outputs": [],
   "source": [
    "asp_data = aspect(elev_data)\n",
    "\n",
    "print(asp_data)\n",
    "aspdeg = (180./np.pi)*asp_data+180. # convert to degrees\n",
    "print(aspdeg)\n",
    "plt.imshow(aspdeg)\n",
    "plt.colorbar()"
   ]
  },
  {
   "cell_type": "markdown",
   "id": "7599b76b",
   "metadata": {},
   "source": [
    "#### Open and read all Wet Snow products for the Mountains using the function defined in Box [2]:"
   ]
  },
  {
   "cell_type": "code",
   "execution_count": null,
   "id": "619d8ea7",
   "metadata": {},
   "outputs": [],
   "source": [
    "wsm_datas = []\n",
    "for file_wsm in files_wsm:\n",
    "    wsm_datas.append(readTif(file_wsm)[0])"
   ]
  },
  {
   "cell_type": "markdown",
   "id": "da4b331c",
   "metadata": {},
   "source": [
    "#### Extract the aspect and elevation information for wet snow pixels and add this data to a pandas DataFrame for each SWS product in the time series:\n",
    "<table><tr><td>\n",
    "Note: You can activate <b>maxelev</b>, <b>minelev</b>, and <b>elevrange</b> if needed to obtain the minimum and maximum elevation, as well as the elevation range of the selected scene.\n",
    "</td></tr></table>"
   ]
  },
  {
   "cell_type": "code",
   "execution_count": null,
   "metadata": {},
   "outputs": [],
   "source": [
    "val_wet_snow = 110\n",
    "\n",
    "for wsm_data in wsm_datas:\n",
    "    dataframe_list = []\n",
    "    \n",
    "    sel = (wsm_data == val_wet_snow)\n",
    "    elev_sel = elev_data[sel]\n",
    "    # print(elev_sel)\n",
    "    # maxelev = int(np.max(np.round(elev_sel/100)*100))\n",
    "    # minelev = math.floor(np.min(elev_sel/100))*100\n",
    "    # elevrange = int(np.round((maxelev - minelev)/100)*100)\n",
    "    # print(minelev, maxelev, elevrange)\n",
    "    \n",
    "    asp_sel = aspdeg[sel]\n",
    "    \n",
    "    df = pd.DataFrame({\"elevation\": elev_sel, \"aspect\": asp_sel})\n",
    "    dataframe_list.append(df)\n",
    "    \n",
    "    ax = WindroseAxes.from_ax(rect=[0,0,0.5,0.5])\n",
    "    # display datasets\n",
    "    for df in dataframe_list:\n",
    "        ax.contour(df.aspect, df.elevation, bins=np.arange(1000, 4500, 500), cmap=cm.plasma)\n",
    "        ax.set_legend(loc='right', bbox_to_anchor=(1.5,0.5))"
   ]
  },
  {
   "cell_type": "markdown",
   "id": "662b6437",
   "metadata": {},
   "source": [
    "***\n",
    "><span style = \"font-family:Verdana; font-size:0.7em\">Copyright © <font color='darkblue'>2022</font>, by ENVEO IT GmbH.</span>  \n",
    "<span style = \"font-family:Verdana; font-size:0.7em\">Contributors: Gabriele Schwaizer, Lars Keuris</span>  \n",
    "<span style = \"font-family:Verdana; font-size:0.7em\">URL: www.enveo.at</span> \n",
    "***\n",
    "<p style = \"font-family:Verdana; font-size:0.7em; line-height:0.5\">Permission is hereby granted, free of charge, to any person obtaining a copy of this software and associated documentation files, to use the Software without restriction.</p>  \n",
    "<p style = \"font-family:Verdana; font-size:0.7em; line-height:1.15; text-align:justify\">THE SOFTWARE IS PROVIDED AS IS, WITHOUT WARRANTY OF ANYKIND, EXPRESS OR IMPLIED, INCLUDING BUT NOT LIMITED TO THE WARRANTIES OF MERCHANTABILITY, FITNESS FOR A PARTICULAR PURPOSE AND NONINFRINGEMENT. <b>IN NO EVENT SHALL THE COPYRIGHT HOLDER BE LIABLE FOR ANY CLAIM, DIRECT INDIRECT, SPECIAL, INCIDENTAL, OR CONSEQUENTIAL DAMAGES OR OTHER LIABILITY, WHETHER IN AN ACTION OF CONTRACT, TORT OR OTHERWISE, ARISING FROM, OUT OF OR IN CONNECTION WITH THE SOFTWARE OR THE USE OR OTHER DEALINGS IN THE SOFTWARE.</b></p>\n",
    "\n",
    "*** "
   ]
  }
 ],
 "metadata": {
  "kernelspec": {
   "display_name": "Python 3 (ipykernel)",
   "language": "python",
   "name": "python3"
  },
  "language_info": {
   "codemirror_mode": {
    "name": "ipython",
    "version": 3
   },
   "file_extension": ".py",
   "mimetype": "text/x-python",
   "name": "python",
   "nbconvert_exporter": "python",
   "pygments_lexer": "ipython3",
   "version": "3.9.2"
  }
 },
 "nbformat": 4,
 "nbformat_minor": 5
}
