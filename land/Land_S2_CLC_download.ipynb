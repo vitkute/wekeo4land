{
 "cells": [
  {
   "cell_type": "markdown",
   "metadata": {},
   "source": [
    "<img src='./img/LogoWekeo_Copernicus_RGB_0.png' align='right' width='10%'></img>"
   ]
  },
  {
   "cell_type": "markdown",
   "metadata": {},
   "source": [
    "# Tutorial on basic land applications (data download)"
   ]
  },
  {
   "cell_type": "markdown",
   "metadata": {},
   "source": [
    "In this tutorial we will use the WEkEO Jupyterhub to access and analyse data from the Copernicus Sentinel-2 and products from the <a href='https://land.copernicus.eu/' target='_blank'>Copernicus Land Monitoring Service (CLMS)</a>. \n",
    "A region in northern Corsica has been selected as it contains representative landscape features and process elements which can be used to demonstrate the capabilities and strengths of Copernicus space component and services.\n",
    "The tutorial comprises the following steps:\n",
    "1. [Search and download data](#search_download): We will select and download a Sentinel-2 scene and the CLMS CORINE Land Cover (CLC) data from their original archive locations via WEkEO using the Harmonised Data Access (HAD) API.\n",
    "2.\tRead and view Sentinel-2 data: Once downloaded, we will read and view the Sentinel-2 data in geographic coordinates as true colour image.\n",
    "3.\tProcess and view Sentinel-2 data as a vegetation index: We will see how the vegetation density and health can be assessed from optical EO data to support crop and landscape management practices.\n",
    "4.\tRead and view the CLC data: Display the thematic CLC data with the correct legend.\n",
    "5.\tCLC2018 burnt area in the Sentinel-2 NDVI data: The two products give different results, but they can be combined to provide more information.\n",
    "\n",
    "<img src='./img/Intro_banner.jpg' align='center' width='100%'></img>"
   ]
  },
  {
   "cell_type": "markdown",
   "metadata": {},
   "source": [
    "## <a id='search_download'></a>1. Search and download data"
   ]
  },
  {
   "cell_type": "markdown",
   "metadata": {},
   "source": [
    "Before we begin we must prepare our environment. This includes importing the various python libraries that we will need."
   ]
  },
  {
   "cell_type": "markdown",
   "metadata": {},
   "source": [
    "### Load required libraries"
   ]
  },
  {
   "cell_type": "code",
   "execution_count": null,
   "metadata": {},
   "outputs": [],
   "source": [
    "import os\n",
    "import sys\n",
    "import json\n",
    "import time\n",
    "import base64\n",
    "from IPython.core.display import HTML\n",
    "\n",
    "import requests\n",
    "import warnings\n",
    "warnings.filterwarnings('ignore')\n",
    "import zipfile"
   ]
  },
  {
   "cell_type": "markdown",
   "metadata": {},
   "source": [
    "### Install the WEkEO HDA client"
   ]
  },
  {
   "cell_type": "markdown",
   "metadata": {},
   "source": [
    "The WEkEO HDA client is a python based library. It provides support for both Python 2.7.x and Python 3."
   ]
  },
  {
   "cell_type": "markdown",
   "metadata": {},
   "source": [
    "In order to install the WEkEO HDA client via the package management system pip, you have to running on Unix/Linux the command shown below."
   ]
  },
  {
   "cell_type": "code",
   "execution_count": null,
   "metadata": {},
   "outputs": [],
   "source": [
    "pip install -U hda"
   ]
  },
  {
   "cell_type": "markdown",
   "metadata": {},
   "source": [
    "Please verify the following requirements are installed before skipping to the next step:\n",
    "   - Python 3\n",
    "   - requests\n",
    "   - tqdm"
   ]
  },
  {
   "cell_type": "markdown",
   "metadata": {},
   "source": [
    "#### Load WEkEO HDA client"
   ]
  },
  {
   "cell_type": "markdown",
   "metadata": {},
   "source": [
    "The hda client provides a fully compliant Python 3 client that can be used to search and download products using the Harmonized Data Access WEkEO API.\n",
    "HDA is RESTful interface allowing users to search and download WEkEO datasets.\n",
    "Documentation about its usage can be found at the <a href='https://www.wekeo.eu/' target='_blank'>WEkEO website</a>."
   ]
  },
  {
   "cell_type": "code",
   "execution_count": null,
   "metadata": {},
   "outputs": [],
   "source": [
    "from hda import Client"
   ]
  },
  {
   "cell_type": "markdown",
   "metadata": {},
   "source": [
    "<hr>"
   ]
  },
  {
   "cell_type": "markdown",
   "metadata": {},
   "source": [
    "### Search for the dataset ID from the WEkEO landing platform"
   ]
  },
  {
   "cell_type": "markdown",
   "metadata": {},
   "source": [
    "<a href='https://wekeo.eu/' target='_blank'>WEkEO</a> offers access to a huge amount of data. Under <a href='https://wekeo.eu/data' target='_blank'>WEkEO DATA</a>, clicking the + to add a layer, opens a catalogue search. Here you can use free text, or you can use the filter options on the left to refine your search and look up data by satellite platform, sensor, Copernicus service, area (region of interest), general time period (past or future), as well as through a variety of flags.\n",
    "\n",
    "<img src='./img/WEkEO_data_01.jpg' align='middle' width='50%'></img>\n",
    "\n",
    "You can click on the datasets you are interested in and you will be guided to a range of details including the dataset temporal and spatial extent, collection ID, and metadata.\n",
    "\n",
    "When searching for the products of Sentinel-2, click under Platform in the Filters on the left-hand side of the catalogue panel. Two datasets are available, but we will use “SENTINEL-2 Level-1C”. Once you have found it, select 'Details' to read the dataset description.\n",
    "The dataset description provides the following information:\n",
    "* Abstract, containing a general description of the dataset,\n",
    "* Classification, including the Dataset ID\n",
    "* Resources, such as a link to the Product Data Format Specification guide, and JSON metadata\n",
    "* Contacts, where you can find further information about the data source from its provider.\n",
    "* Raw metadata, details of the dataset in XML format.\n",
    "\n",
    "<img src='./img/WEkEO_data_02.jpg' align='centre' width='50%'></img>\n",
    "\n",
    "You need the information from here to request data from the Harmonised Data Access API. \n",
    "\n",
    "This process is explained in a previous training session which can be found at the <a href='https://www.youtube.com/channel/UCvS3VvKmMKs1M2ZkmQPyRlw' target='_blank'>WEkEO YouTube Channel</a>. The YouTube channel also contains lots of other useful training and support information, such as how to <a href='https://www.youtube.com/watch?v=pmCkvXcnZxY&list=PLAT-b7DuvMgogqJa5_ii5GteOYmXCce24&index=2' target='_blank'>clone the GitHub to refresh the training materials</a>.\n",
    "\n",
    "For this session the details of the required datasets have already been prepared as JSON files which are used below.\n"
   ]
  },
  {
   "cell_type": "code",
   "execution_count": null,
   "metadata": {},
   "outputs": [],
   "source": [
    "dataset_id_S2 = \"EO:EO:ESA:DAT:SENTINEL-2:MSI\"\n",
    "dataset_id_corine = \"EO:CLMS:DAT:CORINE\"\n",
    "\n",
    "filename_json_S2 = os.path.join(os.getcwd(),'S2_request.json') \n",
    "filename_json_corine = os.path.join(os.getcwd(), 'corine_corsica.json')"
   ]
  },
  {
   "cell_type": "markdown",
   "metadata": {},
   "source": [
    "### Configure the WEkEO API Authentication"
   ]
  },
  {
   "cell_type": "markdown",
   "metadata": {},
   "source": [
    "In order to interact with WEkEO's Harmonised Data Access API, each user first makes sure the file \"$HOME/.hdarc\" exists with the URL to the API end point and your user and password.\n",
    "\n",
    "For example, to search for the file .hdarc in the $HOME diretory, the user would open a terminale and run the following command:"
   ]
  },
  {
   "cell_type": "raw",
   "metadata": {},
   "source": [
    "find $HOME -type f -name .hdarc"
   ]
  },
  {
   "cell_type": "markdown",
   "metadata": {},
   "source": [
    "Then he could copy the code below in the file \"$HOME/.hdarc\" (in your Unix/Linux environment) and adapt the following template with the credentials of your WEkEO account:"
   ]
  },
  {
   "cell_type": "markdown",
   "metadata": {},
   "source": [
    "Your URL and WEkEO API username and password:\n",
    "\n",
    "user_name = #############\n",
    "\n",
    "password = #############"
   ]
  },
  {
   "cell_type": "markdown",
   "metadata": {},
   "source": [
    "If he doesn't have a WEkEO account, please self register at the <a href='https://my.wekeo.eu/web/guest/user-registration' target='_blank'>WEkEO registration page</a>."
   ]
  },
  {
   "cell_type": "markdown",
   "metadata": {},
   "source": [
    "### Load data descriptor file and request data\n",
    "The Harmonised Data Access API can read your data request from a JSON file. In this JSON-based file, you can describe the dataset you are interested in downloading. The file is in principle a dictionary. Following keys can be defined:\n",
    "\n",
    "- datasetID: the dataset's collection ID\n",
    "- stringChoiceValues: type of dataset, e.g. 'Non Time Critical'\n",
    "- dataRangeSelectValues: time period you would like to retrieve data\n",
    "- boundingBoxValues: optional to define a subset of a global field\n",
    "\n",
    "You can also get a specific example of a JSON file for a particular query from the WEkEO DATA portal."
   ]
  },
  {
   "cell_type": "markdown",
   "metadata": {},
   "source": [
    "### Displaying a JSON query from a request made to the Harmonised Data Access API through the data portal\n",
    "\n",
    "You can load the JSON file with json.load(). Alternatively, you can copy paste the dictionary describing your data into a cell as shown in the YouTube video.\n",
    "\n",
    "For this training session JSON file has already been prepared to select the correct Sentinel-2 scene and CLC data to correspond with later tasks. The details were loaded earlier in the JN. The following cell reads that JSON file and displays the contents."
   ]
  },
  {
   "cell_type": "code",
   "execution_count": null,
   "metadata": {},
   "outputs": [],
   "source": [
    "try:\n",
    "    with open(filename_json_S2, 'r') as f:\n",
    "        data_S2 = json.load(f)\n",
    "    print('Your JSON file:')\n",
    "    print(data_S2)\n",
    "except:\n",
    "    print('Your JSON file is not in the correct format, or is not found, please check it!')"
   ]
  },
  {
   "cell_type": "code",
   "execution_count": null,
   "metadata": {},
   "outputs": [],
   "source": [
    "try:\n",
    "    with open(filename_json_corine, 'r') as f:\n",
    "        data_corine = json.load(f)\n",
    "    print('Your JSON file:')\n",
    "    print(data_corine)\n",
    "except:\n",
    "    print('Your JSON file is not in the correct format, or is not found, please check it!')"
   ]
  },
  {
   "cell_type": "markdown",
   "metadata": {},
   "source": [
    "### Download requested data"
   ]
  },
  {
   "cell_type": "markdown",
   "metadata": {},
   "source": [
    "You can use directly the client to download data as in following example. "
   ]
  },
  {
   "cell_type": "code",
   "execution_count": null,
   "metadata": {},
   "outputs": [],
   "source": [
    "c = Client(debug=True)\n",
    "\n",
    "matches = c.search(data_S2)\n",
    "print(matches)\n",
    "matches.download()\n",
    "\n",
    "\n",
    "c = Client(debug=True)\n",
    "\n",
    "matches = c.search(data_corine)\n",
    "print(matches)\n",
    "matches.download()"
   ]
  },
  {
   "cell_type": "markdown",
   "metadata": {},
   "source": [
    "### Decompressing Sentinel 2 and Corine Land Cover data"
   ]
  },
  {
   "cell_type": "code",
   "execution_count": null,
   "metadata": {},
   "outputs": [],
   "source": [
    "#rename S2 file\n",
    "download_dir_path = os.getcwd()\n",
    "for item in os.listdir(download_dir_path): \n",
    "    if item.endswith('SAFE'):\n",
    "        os.rename(os.path.join(download_dir_path, item), os.path.join(download_dir_path, item +\".zip\"))"
   ]
  },
  {
   "cell_type": "markdown",
   "metadata": {},
   "source": [
    "In case you have permission issues when renaming the .SAFE file with the code above, please manually do that by right-clicking the file, then rename, then add .zip to the end of the filename.\n",
    "\n",
    "For example:\n",
    "- From: data/from_wekeo/S2A_MSIL2A_20170802T101031_N0205_R022_T32TNN_20170802T101051.SAFE   \n",
    "- To: data/from_wekeo/S2A_MSIL2A_20170802T101031_N0205_R022_T32TNN_20170802T101051.SAFE.zip"
   ]
  },
  {
   "cell_type": "code",
   "execution_count": null,
   "metadata": {},
   "outputs": [],
   "source": [
    "extension = \".zip\"\n",
    "for item in os.listdir(download_dir_path): # loop through items in dir\n",
    "    print(item)\n",
    "    if item.endswith(extension): # check for \".zip\" extension\n",
    "        file_name = os.path.join(download_dir_path, item) # get full path of files\n",
    "        zip_ref = zipfile.ZipFile(file_name) # create zipfile object\n",
    "        zip_ref.extractall(download_dir_path) # extract file to dir\n",
    "        zip_ref.close() # close file"
   ]
  },
  {
   "cell_type": "markdown",
   "metadata": {},
   "source": [
    "<hr>"
   ]
  },
  {
   "cell_type": "markdown",
   "metadata": {},
   "source": [
    "<p><img src='./img/all_partners_wekeo_2.png' align='left' alt='Logo EU Copernicus' width='100%'></img></p>"
   ]
  }
 ],
 "metadata": {
  "author": "tbd",
  "description": "This notebook shows you how you can access and analyse data from the Copernicus Sentinel-2 satellite and products from the Copernicus Land Monitoring Service (CLMS) with WEkEO.",
  "github": "https://github.com/wekeo/wekeo4land/blob/main/land/Land_S2_CLC_download.ipynb",
  "image": "./img/img_01.png",
  "kernelspec": {
   "display_name": "Python 3.11.5 64-bit",
   "language": "python",
   "name": "python3"
  },
  "language_info": {
   "codemirror_mode": {
    "name": "ipython",
    "version": 3
   },
   "file_extension": ".py",
   "mimetype": "text/x-python",
   "name": "python",
   "nbconvert_exporter": "python",
   "pygments_lexer": "ipython3",
   "version": "3.11.5"
  },
  "deployment": {
   "wekeo": {
    "git": {
     "link": "https://github.com/wekeo/wekeo4land/blob/main/land/Land_S2_CLC_download.ipynb",
     "service_contact": "ops@eumetsat.int",
     "service_provider": "EUMETSAT"
    },
    "jupyter": {
     "link": "https://jupyterhub.prod.wekeo2.eu/hub/user-redirect/lab/tree/public/wekeo4land/land/Land_S2_CLC_download.ipynb",
     "service_contact": "ops@eumetsat.int",
     "service_provider": "EUMETSAT"
    }
   }
  },
  "tags": {
   "theme": "Land",
   "platform": "Sentinel-2",
   "sensor": "MSI",
   "service": "CLMS (Land)",
   "subtheme": "Land Cover",
   "tags": "Top-of-atmosphere radiance"
  },
  "title": "Tutorial on basic land applications (data download)",
  "vscode": {
   "interpreter": {
    "hash": "69a843eb2806097c81d46a99bb39f1f0d8214ba0939f50116f16a105a7e284d3"
   }
  }
 },
 "nbformat": 4,
 "nbformat_minor": 4
}
